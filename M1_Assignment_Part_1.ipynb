{
  "nbformat": 4,
  "nbformat_minor": 0,
  "metadata": {
    "kernelspec": {
      "display_name": "Python 3",
      "language": "python",
      "name": "python3"
    },
    "language_info": {
      "codemirror_mode": {
        "name": "ipython",
        "version": 3
      },
      "file_extension": ".py",
      "mimetype": "text/x-python",
      "name": "python",
      "nbconvert_exporter": "python",
      "pygments_lexer": "ipython3",
      "version": "3.7.6"
    },
    "colab": {
      "provenance": [],
      "toc_visible": true
    }
  },
  "cells": [
    {
      "cell_type": "markdown",
      "metadata": {
        "id": "view-in-github"
      },
      "source": [
        "<a href=\"https://colab.research.google.com/github/Natural-Language-Processing-YU/Module-1-Assignment/blob/main/M1_Assignment_Part_1.ipynb\" target=\"_parent\"><img src=\"https://colab.research.google.com/assets/colab-badge.svg\" alt=\"Open In Colab\"/></a>"
      ]
    },
    {
      "cell_type": "markdown",
      "metadata": {
        "id": "URHO-Uji2koG"
      },
      "source": [
        "# M1 Assignment: Text Processing and Edit Distance\n",
        "\n",
        "In this section we will be exploring how to preprocess tweets . We will provide a function for preprocessing tweets during this week's assignment, but it is still good to know what is going on under the hood. By the end of this assignment, you will see how to use the [NLTK](http://www.nltk.org) package to perform a preprocessing pipeline for Twitter datasets."
      ]
    },
    {
      "cell_type": "markdown",
      "metadata": {
        "id": "cVg-26AV2koP"
      },
      "source": [
        "## Setup\n",
        "Eventually, you will conduct a sentiment analysis on Tweets. To help with that, we will be using the Natural Language Toolkit (NLTK) package, an open-source Python library for natural language processing. In this library you will use the NLTK to assist with processing the tweet to clean it for interpretation.\n",
        "\n",
        "In Part 1.1, you will extract a set of Elon Musk tweets. Next in Part 1.2, you will process the tweets using the various processing tasks outlined in the section and Chapter 2 of Jurafsky and Martin. Finally, in Part 1.3, you will create a simple version of a Levensthein distance formula to run the edit distance between two matrices.\n",
        "\n",
        "As part of completing the assignment, you will see that there are areas in the note book for you to complete your own coding input.\n",
        "\n",
        "It will be look like following:\n",
        "```\n",
        "### START CODE HERE (REPLACE INSTANCES OF 'None' with your code) ###\n",
        "'Some coding activity for you to complete'\n",
        "### END CODE HERE ###\n",
        "\n",
        "```"
      ]
    },
    {
      "cell_type": "markdown",
      "source": [
        "Additionally, you will be using custom media and libraries created and stored for your in your Colab environment.\n"
      ],
      "metadata": {
        "id": "MYLzCpw62fYi"
      }
    },
    {
      "cell_type": "markdown",
      "metadata": {
        "id": "td35EC362koR"
      },
      "source": [
        "## Part 1.1: Using tweetsts\n",
        "\n",
        "---\n",
        "\n"
      ]
    },
    {
      "cell_type": "markdown",
      "metadata": {
        "id": "hzNDoS1P2koY"
      },
      "source": [
        "### Extracting tweets\n",
        "In this next section, we're going to import Elon Musk's tweets and prepare them to preprocess. Use the following code to connect to the M1 Assignment Repo and download it to your Google Colab Account\n",
        "\n"
      ]
    },
    {
      "cell_type": "code",
      "source": [
        "#install this if you do not have this already installed\n",
        "#!pip install gitpython\n",
        "\n",
        "import git\n",
        "import sys\n",
        "\n",
        "\n",
        "# Clone the GitHub repository\n",
        "repo_url = 'https://github.com/Natural-Language-Processing-YU/Module-1-Assignment.git'\n",
        "repo_dir = '/content/m1_repo'  # Specify the directory to clone the repository\n",
        "git.Repo.clone_from(repo_url, repo_dir)\n",
        "# Add the cloned repository directory to the import path\n",
        "\n"
      ],
      "metadata": {
        "colab": {
          "base_uri": "https://localhost:8080/"
        },
        "id": "6WNrUiAYxglN",
        "outputId": "9ccda5eb-c439-45e1-9aff-3e1762792352"
      },
      "execution_count": 3,
      "outputs": [
        {
          "output_type": "execute_result",
          "data": {
            "text/plain": [
              "<git.repo.base.Repo '/content/m1_repo/.git'>"
            ]
          },
          "metadata": {},
          "execution_count": 3
        }
      ]
    },
    {
      "cell_type": "markdown",
      "source": [
        "Use the pandas library to create a dataframe with the csv file full owf twees."
      ],
      "metadata": {
        "id": "Md_LSWJUud-U"
      }
    },
    {
      "cell_type": "code",
      "metadata": {
        "id": "W308paKm2kob",
        "outputId": "863be0aa-e342-4724-d3ae-70c04697ba1a",
        "colab": {
          "base_uri": "https://localhost:8080/"
        }
      },
      "source": [
        "#extract the tweets\n",
        "import pandas as pd\n",
        "\n",
        "tweets = pd.read_csv('/content/m1_repo/data/elonmusk_tweets.csv') #import file\n",
        "print(tweets.dtypes) #print data types\n",
        "print(tweets.text) #show tweets from file\n",
        "df = pd.DataFrame(tweets)\n",
        "\n"
      ],
      "execution_count": 4,
      "outputs": [
        {
          "output_type": "stream",
          "name": "stdout",
          "text": [
            "id             int64\n",
            "created_at    object\n",
            "text          object\n",
            "dtype: object\n",
            "0       b'And so the robots spared humanity ... https:...\n",
            "1       b\"@ForIn2020 @waltmossberg @mims @defcon_5 Exa...\n",
            "2           b'@waltmossberg @mims @defcon_5 Et tu, Walt?'\n",
            "3                     b'Stormy weather in Shortville ...'\n",
            "4       b\"@DaveLeeBBC @verge Coal is dying due to nat ...\n",
            "                              ...                        \n",
            "2814                 b'That was a total non sequitur btw'\n",
            "2815    b'Great Voltaire quote, arguably better than T...\n",
            "2816    b'I made the volume on the Model S http://t.co...\n",
            "2817    b\"Went to Iceland on Sat to ride bumper cars o...\n",
            "2818    b'Please ignore prior tweets, as that was some...\n",
            "Name: text, Length: 2819, dtype: object\n"
          ]
        }
      ]
    },
    {
      "cell_type": "markdown",
      "metadata": {
        "id": "S2kk1YB-2koa"
      },
      "source": [
        "## Part 1.2: Preprocessing the text from tweets\n",
        "Text processing is one of the critical steps in an NLP project and in data scenience and analytics. It includes cleaning and formatting the data before feeding an algorithm. For NLP, the preprocessing steps are comprised of the following tasks:\n",
        "\n",
        "1. Tokenizing the string\n",
        "2. Lowercasing\n",
        "3. Removing stop words and punctuation\n",
        "4. Stemming\n",
        "\n",
        "We will take this approach with a selected tweet that we returned from above see how this is transformed by each preprocessing step.\n",
        "\n",
        "Let's take one of the tweets and apply preprocessing steps"
      ]
    },
    {
      "cell_type": "markdown",
      "source": [
        "Let's take a look at one tweet from our dataframe:"
      ],
      "metadata": {
        "id": "fry6Eqa9ryXa"
      }
    },
    {
      "cell_type": "code",
      "source": [
        "print('\\033[92m' + df['text'][2816])"
      ],
      "metadata": {
        "colab": {
          "base_uri": "https://localhost:8080/"
        },
        "id": "vl2W0slVr2RS",
        "outputId": "8584bdff-41e8-41a1-d151-de47086ee253"
      },
      "execution_count": 6,
      "outputs": [
        {
          "output_type": "stream",
          "name": "stdout",
          "text": [
            "\u001b[92mb'I made the volume on the Model S http://t.co/wMCnT53M go to 11.  Now I just need to work in a miniature Stonehenge...'\n"
          ]
        }
      ]
    },
    {
      "cell_type": "markdown",
      "metadata": {
        "id": "E2Ii7mmr2kod"
      },
      "source": [
        "### Remove hyperlinks, hashtags, and beginngin of strings\n",
        "Using this tweet, let's clean it up to remove unncessary information. First, we will use regex to remove hyperlinks. You will create the regex substring to remove hyperlinks, hashtabs and the start of a tweet line.  "
      ]
    },
    {
      "cell_type": "code",
      "metadata": {
        "id": "sQljVSFM2kod",
        "outputId": "745da457-4392-4f97-b283-d32cfc99e89d",
        "colab": {
          "base_uri": "https://localhost:8080/"
        }
      },
      "source": [
        "### START CODE HERE (REPLACE INSTANCES OF 'None' with your code) ###\n",
        "#create regex for hyperlinks\n",
        "\n",
        "import re\n",
        "\n",
        "# Disable SettingWithCopyWarning\n",
        "pd.options.mode.chained_assignment = None\n",
        "\n",
        "'''\n",
        "# Below regex pattern matches most URLs, including those that start with http or https,\n",
        "# followed by any combination of alphanumeric characters and some special characters.\n",
        "'''\n",
        "regex_remove_hyperlinks = r\"http[s]?://(?:[a-zA-Z]|[0-9]|[$-_@.&+]|[!*\\\\(\\\\),]|(?:%[0-9a-fA-F][0-9a-fA-F]))+\"\n",
        "df['text'][2816] = re.sub(regex_remove_hyperlinks, '', df['text'][2816])\n",
        "\n",
        "# remove hashtags\n",
        "# only removing the hash # sign from the word\n",
        "'''\n",
        "# Below regex pattern finds hashtags (words preceded by a # sign) and captures the word\n",
        "# following the hash without the hash itself. The replacement pattern \\1 refers to\n",
        "# the first captured group, which is the word without the hash, effectively removing\n",
        "# the hash sign while keeping the word.\n",
        "'''\n",
        "regex_hash = r\"#(\\w+)\"\n",
        "df['text'][2816] = re.sub(regex_hash, '', df['text'][2816])\n",
        "\n",
        "\n",
        "# remove 'b from each string\n",
        "regex_string_beginning = r\"^b['\\\"]\"\n",
        "df['text'][2816] = re.sub(regex_string_beginning, '', df['text'][2816])\n",
        "\n",
        "### END CODE HERE ###\n",
        "\n",
        "\n",
        "# Print the modified tweet\n",
        "print('\\033[92m' + df['text'][2816])\n",
        "\n"
      ],
      "execution_count": 10,
      "outputs": [
        {
          "output_type": "stream",
          "name": "stdout",
          "text": [
            "\u001b[92mI made the volume on the Model S  go to 11.  Now I just need to work in a miniature Stonehenge...'\n"
          ]
        }
      ]
    },
    {
      "cell_type": "markdown",
      "source": [
        "#Using NLTK Libraries\n",
        "\n",
        "Now let's use the NLTK libraries to remove stopwords, tokenize, and stem the words.\n",
        "\n",
        "The Porter stemming algorithm, also known as the Porter stemmer, is a widely used algorithm for stemming words in natural language processing (NLP). It is named after its creator, Martin Porter. The goal of stemming is to reduce words to their base or root form, which helps to normalize variations of a word and reduce the vocabulary size."
      ],
      "metadata": {
        "id": "8X5-erZasQzI"
      }
    },
    {
      "cell_type": "code",
      "metadata": {
        "id": "8ZoSOGaW2koc"
      },
      "source": [
        "import nltk                                # Python library for NLP\n",
        "import re                                  # library for regular expression operations\n",
        "import string                              # for string operations\n",
        "\n",
        "from nltk.corpus import stopwords          # module for stop words that come with NLTK\n",
        "from nltk.stem import PorterStemmer        # module for stemming\n",
        "from nltk.tokenize import TweetTokenizer   # module for tokenizing strings"
      ],
      "execution_count": 11,
      "outputs": []
    },
    {
      "cell_type": "code",
      "metadata": {
        "id": "xgaZcBmu2koc",
        "outputId": "01ff44a8-558e-466b-d86d-cda97a70ba14",
        "colab": {
          "base_uri": "https://localhost:8080/"
        }
      },
      "source": [
        "# download the stopwords from NLTK\n",
        "nltk.download('stopwords')"
      ],
      "execution_count": 12,
      "outputs": [
        {
          "output_type": "stream",
          "name": "stderr",
          "text": [
            "[nltk_data] Downloading package stopwords to /root/nltk_data...\n",
            "[nltk_data]   Unzipping corpora/stopwords.zip.\n"
          ]
        },
        {
          "output_type": "execute_result",
          "data": {
            "text/plain": [
              "True"
            ]
          },
          "metadata": {},
          "execution_count": 12
        }
      ]
    },
    {
      "cell_type": "markdown",
      "metadata": {
        "id": "tMBLZmjp2koe"
      },
      "source": [
        "### Tokenize the string\n",
        "\n",
        "To tokenize means to split the strings into individual words without blanks or tabs. In this same step, we will also convert each word in the string to lower case. The [tokenize](https://www.nltk.org/api/nltk.tokenize.html#module-nltk.tokenize.casual) module from NLTK allows us to do these easily:"
      ]
    },
    {
      "cell_type": "code",
      "metadata": {
        "id": "QD2ub7Dl2koe",
        "colab": {
          "base_uri": "https://localhost:8080/"
        },
        "outputId": "2111e924-6841-45e6-d512-859d72f65d16"
      },
      "source": [
        "# instantiate tokenizer class\n",
        "tokenizer = TweetTokenizer(preserve_case=False, strip_handles=True,\n",
        "                               reduce_len=True)\n",
        "\n",
        "# tokenize tweets\n",
        "tokenized_tweet = tokenizer.tokenize(str(df['text'][2816]))\n",
        "\n",
        "\n",
        "print(tokenized_tweet)"
      ],
      "execution_count": 13,
      "outputs": [
        {
          "output_type": "stream",
          "name": "stdout",
          "text": [
            "['i', 'made', 'the', 'volume', 'on', 'the', 'model', 's', 'go', 'to', '11', '.', 'now', 'i', 'just', 'need', 'to', 'work', 'in', 'a', 'miniature', 'stonehenge', '...', \"'\"]\n"
          ]
        }
      ]
    },
    {
      "cell_type": "markdown",
      "metadata": {
        "id": "rv8jxMlK2kof"
      },
      "source": [
        "### Remove stop words and punctuations\n",
        "\n",
        "The next step is to remove stop words and miscelleneous punctuations. Stop words are words that do not have semantic meaning to the tweet. There is a library of stopwords built into NLTK. The list provided by NLTK when you run the cells below."
      ]
    },
    {
      "cell_type": "code",
      "metadata": {
        "id": "weMOqHRp2kof",
        "outputId": "4c20f040-63c0-4370-e52f-0934d1118814",
        "colab": {
          "base_uri": "https://localhost:8080/"
        }
      },
      "source": [
        "#Import the english stop words list from NLTK\n",
        "stopwords_english = stopwords.words('english')\n",
        "\n",
        "print('Stop words\\n')\n",
        "print(stopwords_english)\n",
        "\n",
        "print('\\nPunctuation\\n')\n",
        "print(string.punctuation)"
      ],
      "execution_count": 14,
      "outputs": [
        {
          "output_type": "stream",
          "name": "stdout",
          "text": [
            "Stop words\n",
            "\n",
            "['i', 'me', 'my', 'myself', 'we', 'our', 'ours', 'ourselves', 'you', \"you're\", \"you've\", \"you'll\", \"you'd\", 'your', 'yours', 'yourself', 'yourselves', 'he', 'him', 'his', 'himself', 'she', \"she's\", 'her', 'hers', 'herself', 'it', \"it's\", 'its', 'itself', 'they', 'them', 'their', 'theirs', 'themselves', 'what', 'which', 'who', 'whom', 'this', 'that', \"that'll\", 'these', 'those', 'am', 'is', 'are', 'was', 'were', 'be', 'been', 'being', 'have', 'has', 'had', 'having', 'do', 'does', 'did', 'doing', 'a', 'an', 'the', 'and', 'but', 'if', 'or', 'because', 'as', 'until', 'while', 'of', 'at', 'by', 'for', 'with', 'about', 'against', 'between', 'into', 'through', 'during', 'before', 'after', 'above', 'below', 'to', 'from', 'up', 'down', 'in', 'out', 'on', 'off', 'over', 'under', 'again', 'further', 'then', 'once', 'here', 'there', 'when', 'where', 'why', 'how', 'all', 'any', 'both', 'each', 'few', 'more', 'most', 'other', 'some', 'such', 'no', 'nor', 'not', 'only', 'own', 'same', 'so', 'than', 'too', 'very', 's', 't', 'can', 'will', 'just', 'don', \"don't\", 'should', \"should've\", 'now', 'd', 'll', 'm', 'o', 're', 've', 'y', 'ain', 'aren', \"aren't\", 'couldn', \"couldn't\", 'didn', \"didn't\", 'doesn', \"doesn't\", 'hadn', \"hadn't\", 'hasn', \"hasn't\", 'haven', \"haven't\", 'isn', \"isn't\", 'ma', 'mightn', \"mightn't\", 'mustn', \"mustn't\", 'needn', \"needn't\", 'shan', \"shan't\", 'shouldn', \"shouldn't\", 'wasn', \"wasn't\", 'weren', \"weren't\", 'won', \"won't\", 'wouldn', \"wouldn't\"]\n",
            "\n",
            "Punctuation\n",
            "\n",
            "!\"#$%&'()*+,-./:;<=>?@[\\]^_`{|}~\n"
          ]
        }
      ]
    },
    {
      "cell_type": "markdown",
      "metadata": {
        "id": "23rvPhYz2kof"
      },
      "source": [
        "We can see that the stop words list above contains some words that could be important in some contexts.\n",
        "These could be words like _i, not, between, because, won, against_. In some cases, you may want to update this dictionary of stop words to suit your needs.\n",
        "\n",
        "Certain groupings like ':)' and '...'  should be retained when dealing with tweets because they are used to express emotions, but in some cases they should be removed.\n"
      ]
    },
    {
      "cell_type": "code",
      "metadata": {
        "id": "5Jnynu5K2kog",
        "outputId": "40a19348-1874-49fa-e69c-dd2c97c60bf6",
        "colab": {
          "base_uri": "https://localhost:8080/"
        }
      },
      "source": [
        "df2=df\n",
        "tweets_clean = []\n",
        "\n",
        "for word in tokenized_tweet: # Go through every word in your tokens list\n",
        "    if (word not in stopwords_english and  # remove stopwords\n",
        "        word not in string.punctuation):  # remove punctuation\n",
        "        tweets_clean.append(word)\n",
        "\n",
        "print('removed stop words and punctuation:')\n",
        "print(tweets_clean)"
      ],
      "execution_count": 16,
      "outputs": [
        {
          "output_type": "stream",
          "name": "stdout",
          "text": [
            "removed stop words and punctuation:\n",
            "['made', 'volume', 'model', 'go', '11', 'need', 'work', 'miniature', 'stonehenge', '...']\n"
          ]
        }
      ]
    },
    {
      "cell_type": "markdown",
      "source": [
        "Next, we use porter stemmer to stem words.\n",
        "\n",
        "            stem_word = stemmer.stem(word)  # stemming word\n",
        "            tweets_clean.append(stem_word)"
      ],
      "metadata": {
        "id": "Wse80ZKUrASY"
      }
    },
    {
      "cell_type": "code",
      "source": [
        "import nltk\n",
        "from nltk.stem import PorterStemmer\n",
        "\n",
        "stemmer = PorterStemmer()\n",
        "for word in tokenized_tweet:\n",
        "    stem_word = stemmer.stem(word)\n",
        "    tweets_clean.append(stem_word)\n",
        "print(tweets_clean)"
      ],
      "metadata": {
        "id": "Nwq8pacZrLXg",
        "colab": {
          "base_uri": "https://localhost:8080/"
        },
        "outputId": "81df99d1-fef8-4166-b283-f2e768142cf7"
      },
      "execution_count": 17,
      "outputs": [
        {
          "output_type": "stream",
          "name": "stdout",
          "text": [
            "['made', 'volume', 'model', 'go', '11', 'need', 'work', 'miniature', 'stonehenge', '...', 'i', 'made', 'the', 'volum', 'on', 'the', 'model', 's', 'go', 'to', '11', '.', 'now', 'i', 'just', 'need', 'to', 'work', 'in', 'a', 'miniatur', 'stoneheng', '...', \"'\"]\n"
          ]
        }
      ]
    },
    {
      "cell_type": "markdown",
      "metadata": {
        "id": "9quRejfi2kog"
      },
      "source": [
        "## preprocess_tweet()\n",
        "\n",
        "As shown above, preprocessing consists of multiple steps before you arrive at the final list of words.  In the week's assignment, write a function called `preprocess_tweet()`.\n",
        "\n",
        "Then, use this to iterate through the dataframe and preprocess each tweet into a new column.\n",
        "\n",
        "Print your results.\n"
      ]
    },
    {
      "cell_type": "code",
      "metadata": {
        "id": "frUPXf542koh"
      },
      "source": [
        "### START CODE HERE (REPLACE INSTANCES OF 'None' with your code) ###\n",
        "import nltk\n",
        "from nltk.stem import PorterStemmer\n",
        "\n",
        "def preprocess_tweet(tweet):\n",
        "    \"\"\"Process tweet function.\n",
        "    Input:\n",
        "        tweet: a string containing a tweet\n",
        "    Output:\n",
        "        tweets_clean: a list of words containing the processed tweet\n",
        "\n",
        "    \"\"\"\n",
        "    # Step 1: Remove hyperlinks from tweeet\n",
        "    regex_remove_hyperlinks = r\"http[s]?://(?:[a-zA-Z]|[0-9]|[$-_@.&+]|[!*\\\\(\\\\),]|(?:%[0-9a-fA-F][0-9a-fA-F]))+\"\n",
        "    tweet = re.sub(regex_remove_hyperlinks, '', tweet)\n",
        "\n",
        "    # Step 2: remove hashtags\n",
        "    regex_hash = r\"#(\\w+)\"\n",
        "    tweet = re.sub(regex_hash, '', tweet)\n",
        "\n",
        "    # Step 3: remove 'b from each string\n",
        "    regex_string_beginning = r\"^b['\\\"]\"\n",
        "    tweet = re.sub(regex_string_beginning, '', tweet)\n",
        "\n",
        "    # Step 4: Tokenize the input 'tweet' string\n",
        "    # instantiate tokenizer class\n",
        "    tokenizer = TweetTokenizer(preserve_case=False, strip_handles=True,\n",
        "                               reduce_len=True)\n",
        "\n",
        "    # tokenize tweets\n",
        "    tokenized_tweet = tokenizer.tokenize(tweet)\n",
        "\n",
        "    # Step 5: Remove stopwords and punctuations\n",
        "    stopwords_english = stopwords.words('english')\n",
        "    punctuations = string.punctuation\n",
        "\n",
        "    tweets_clean = []\n",
        "    for word in tokenized_tweet: # Go through every word in your tokens list\n",
        "      if (word not in stopwords_english and  # remove stopwords\n",
        "          word not in string.punctuation):  # remove punctuation\n",
        "          tweets_clean.append(word)\n",
        "\n",
        "    # Step 6: Use porter stemmer to stem words\n",
        "    final_clean_list = []\n",
        "    stemmer = PorterStemmer()\n",
        "    for word in tweets_clean:\n",
        "      stem_word = stemmer.stem(word)\n",
        "      final_clean_list.append(stem_word)\n",
        "\n",
        "    return final_clean_list\n",
        "### END CODE HERE ###"
      ],
      "execution_count": 26,
      "outputs": []
    },
    {
      "cell_type": "code",
      "metadata": {
        "id": "YjioQEB12koh",
        "outputId": "b31729ed-a251-4d34-b3f7-fd4a8012590a",
        "colab": {
          "base_uri": "https://localhost:8080/",
          "height": 929
        }
      },
      "source": [
        "### START CODE HERE (REPLACE INSTANCES OF 'None' with your code) ###\n",
        "\"\"\"\n",
        "Use the function to iterate through the original dataframe 'df' and preprocess each tweet into a new column \"preprocessed_tweets\". Pseudocode below.\n",
        "\n",
        "for i in len(df):\n",
        "  df[\"preprocessed_tweet\"][i] = preprocess_tweet(df[\"text\"][i])\n",
        "\n",
        "\n",
        "\"\"\"\n",
        "df[\"preprocessed_tweet\"] = df[\"text\"].apply(preprocess_tweet)\n",
        "\n",
        "### END CODE HERE ###\n",
        "\n",
        "display(df)"
      ],
      "execution_count": 27,
      "outputs": [
        {
          "output_type": "display_data",
          "data": {
            "text/plain": [
              "                      id           created_at  \\\n",
              "0     849636868052275200  2017-04-05 14:56:29   \n",
              "1     848988730585096192  2017-04-03 20:01:01   \n",
              "2     848943072423497728  2017-04-03 16:59:35   \n",
              "3     848935705057280001  2017-04-03 16:30:19   \n",
              "4     848416049573658624  2017-04-02 06:05:23   \n",
              "...                  ...                  ...   \n",
              "2814  142881284019060736  2011-12-03 08:22:07   \n",
              "2815  142880871391838208  2011-12-03 08:20:28   \n",
              "2816  142188458125963264  2011-12-01 10:29:04   \n",
              "2817  142179928203460608  2011-12-01 09:55:11   \n",
              "2818         15434727182  2010-06-04 18:31:57   \n",
              "\n",
              "                                                   text  \\\n",
              "0     b'And so the robots spared humanity ... https:...   \n",
              "1     b\"@ForIn2020 @waltmossberg @mims @defcon_5 Exa...   \n",
              "2         b'@waltmossberg @mims @defcon_5 Et tu, Walt?'   \n",
              "3                   b'Stormy weather in Shortville ...'   \n",
              "4     b\"@DaveLeeBBC @verge Coal is dying due to nat ...   \n",
              "...                                                 ...   \n",
              "2814               b'That was a total non sequitur btw'   \n",
              "2815  b'Great Voltaire quote, arguably better than T...   \n",
              "2816  I made the volume on the Model S  go to 11.  N...   \n",
              "2817  b\"Went to Iceland on Sat to ride bumper cars o...   \n",
              "2818  b'Please ignore prior tweets, as that was some...   \n",
              "\n",
              "                                     preprocessed_tweet  \n",
              "0                            [robot, spare, human, ...]  \n",
              "1     [exactli, tesla, absurdli, overvalu, base, pas...  \n",
              "2                                        [et, tu, walt]  \n",
              "3                      [stormi, weather, shortvil, ...]  \n",
              "4         [coal, die, due, nat, ga, frack, basic, dead]  \n",
              "...                                                 ...  \n",
              "2814                        [total, non, sequitur, btw]  \n",
              "2815  [great, voltair, quot, arguabl, better, twain,...  \n",
              "2816  [made, volum, model, go, 11, need, work, minia...  \n",
              "2817  [went, iceland, sat, ride, bumper, car, ice, c...  \n",
              "2818  [pleas, ignor, prior, tweet, someon, pretend, ...  \n",
              "\n",
              "[2819 rows x 4 columns]"
            ],
            "text/html": [
              "\n",
              "  <div id=\"df-2120de6c-f5a2-426a-90bb-0aa7751666e7\" class=\"colab-df-container\">\n",
              "    <div>\n",
              "<style scoped>\n",
              "    .dataframe tbody tr th:only-of-type {\n",
              "        vertical-align: middle;\n",
              "    }\n",
              "\n",
              "    .dataframe tbody tr th {\n",
              "        vertical-align: top;\n",
              "    }\n",
              "\n",
              "    .dataframe thead th {\n",
              "        text-align: right;\n",
              "    }\n",
              "</style>\n",
              "<table border=\"1\" class=\"dataframe\">\n",
              "  <thead>\n",
              "    <tr style=\"text-align: right;\">\n",
              "      <th></th>\n",
              "      <th>id</th>\n",
              "      <th>created_at</th>\n",
              "      <th>text</th>\n",
              "      <th>preprocessed_tweet</th>\n",
              "    </tr>\n",
              "  </thead>\n",
              "  <tbody>\n",
              "    <tr>\n",
              "      <th>0</th>\n",
              "      <td>849636868052275200</td>\n",
              "      <td>2017-04-05 14:56:29</td>\n",
              "      <td>b'And so the robots spared humanity ... https:...</td>\n",
              "      <td>[robot, spare, human, ...]</td>\n",
              "    </tr>\n",
              "    <tr>\n",
              "      <th>1</th>\n",
              "      <td>848988730585096192</td>\n",
              "      <td>2017-04-03 20:01:01</td>\n",
              "      <td>b\"@ForIn2020 @waltmossberg @mims @defcon_5 Exa...</td>\n",
              "      <td>[exactli, tesla, absurdli, overvalu, base, pas...</td>\n",
              "    </tr>\n",
              "    <tr>\n",
              "      <th>2</th>\n",
              "      <td>848943072423497728</td>\n",
              "      <td>2017-04-03 16:59:35</td>\n",
              "      <td>b'@waltmossberg @mims @defcon_5 Et tu, Walt?'</td>\n",
              "      <td>[et, tu, walt]</td>\n",
              "    </tr>\n",
              "    <tr>\n",
              "      <th>3</th>\n",
              "      <td>848935705057280001</td>\n",
              "      <td>2017-04-03 16:30:19</td>\n",
              "      <td>b'Stormy weather in Shortville ...'</td>\n",
              "      <td>[stormi, weather, shortvil, ...]</td>\n",
              "    </tr>\n",
              "    <tr>\n",
              "      <th>4</th>\n",
              "      <td>848416049573658624</td>\n",
              "      <td>2017-04-02 06:05:23</td>\n",
              "      <td>b\"@DaveLeeBBC @verge Coal is dying due to nat ...</td>\n",
              "      <td>[coal, die, due, nat, ga, frack, basic, dead]</td>\n",
              "    </tr>\n",
              "    <tr>\n",
              "      <th>...</th>\n",
              "      <td>...</td>\n",
              "      <td>...</td>\n",
              "      <td>...</td>\n",
              "      <td>...</td>\n",
              "    </tr>\n",
              "    <tr>\n",
              "      <th>2814</th>\n",
              "      <td>142881284019060736</td>\n",
              "      <td>2011-12-03 08:22:07</td>\n",
              "      <td>b'That was a total non sequitur btw'</td>\n",
              "      <td>[total, non, sequitur, btw]</td>\n",
              "    </tr>\n",
              "    <tr>\n",
              "      <th>2815</th>\n",
              "      <td>142880871391838208</td>\n",
              "      <td>2011-12-03 08:20:28</td>\n",
              "      <td>b'Great Voltaire quote, arguably better than T...</td>\n",
              "      <td>[great, voltair, quot, arguabl, better, twain,...</td>\n",
              "    </tr>\n",
              "    <tr>\n",
              "      <th>2816</th>\n",
              "      <td>142188458125963264</td>\n",
              "      <td>2011-12-01 10:29:04</td>\n",
              "      <td>I made the volume on the Model S  go to 11.  N...</td>\n",
              "      <td>[made, volum, model, go, 11, need, work, minia...</td>\n",
              "    </tr>\n",
              "    <tr>\n",
              "      <th>2817</th>\n",
              "      <td>142179928203460608</td>\n",
              "      <td>2011-12-01 09:55:11</td>\n",
              "      <td>b\"Went to Iceland on Sat to ride bumper cars o...</td>\n",
              "      <td>[went, iceland, sat, ride, bumper, car, ice, c...</td>\n",
              "    </tr>\n",
              "    <tr>\n",
              "      <th>2818</th>\n",
              "      <td>15434727182</td>\n",
              "      <td>2010-06-04 18:31:57</td>\n",
              "      <td>b'Please ignore prior tweets, as that was some...</td>\n",
              "      <td>[pleas, ignor, prior, tweet, someon, pretend, ...</td>\n",
              "    </tr>\n",
              "  </tbody>\n",
              "</table>\n",
              "<p>2819 rows × 4 columns</p>\n",
              "</div>\n",
              "    <div class=\"colab-df-buttons\">\n",
              "\n",
              "  <div class=\"colab-df-container\">\n",
              "    <button class=\"colab-df-convert\" onclick=\"convertToInteractive('df-2120de6c-f5a2-426a-90bb-0aa7751666e7')\"\n",
              "            title=\"Convert this dataframe to an interactive table.\"\n",
              "            style=\"display:none;\">\n",
              "\n",
              "  <svg xmlns=\"http://www.w3.org/2000/svg\" height=\"24px\" viewBox=\"0 -960 960 960\">\n",
              "    <path d=\"M120-120v-720h720v720H120Zm60-500h600v-160H180v160Zm220 220h160v-160H400v160Zm0 220h160v-160H400v160ZM180-400h160v-160H180v160Zm440 0h160v-160H620v160ZM180-180h160v-160H180v160Zm440 0h160v-160H620v160Z\"/>\n",
              "  </svg>\n",
              "    </button>\n",
              "\n",
              "  <style>\n",
              "    .colab-df-container {\n",
              "      display:flex;\n",
              "      gap: 12px;\n",
              "    }\n",
              "\n",
              "    .colab-df-convert {\n",
              "      background-color: #E8F0FE;\n",
              "      border: none;\n",
              "      border-radius: 50%;\n",
              "      cursor: pointer;\n",
              "      display: none;\n",
              "      fill: #1967D2;\n",
              "      height: 32px;\n",
              "      padding: 0 0 0 0;\n",
              "      width: 32px;\n",
              "    }\n",
              "\n",
              "    .colab-df-convert:hover {\n",
              "      background-color: #E2EBFA;\n",
              "      box-shadow: 0px 1px 2px rgba(60, 64, 67, 0.3), 0px 1px 3px 1px rgba(60, 64, 67, 0.15);\n",
              "      fill: #174EA6;\n",
              "    }\n",
              "\n",
              "    .colab-df-buttons div {\n",
              "      margin-bottom: 4px;\n",
              "    }\n",
              "\n",
              "    [theme=dark] .colab-df-convert {\n",
              "      background-color: #3B4455;\n",
              "      fill: #D2E3FC;\n",
              "    }\n",
              "\n",
              "    [theme=dark] .colab-df-convert:hover {\n",
              "      background-color: #434B5C;\n",
              "      box-shadow: 0px 1px 3px 1px rgba(0, 0, 0, 0.15);\n",
              "      filter: drop-shadow(0px 1px 2px rgba(0, 0, 0, 0.3));\n",
              "      fill: #FFFFFF;\n",
              "    }\n",
              "  </style>\n",
              "\n",
              "    <script>\n",
              "      const buttonEl =\n",
              "        document.querySelector('#df-2120de6c-f5a2-426a-90bb-0aa7751666e7 button.colab-df-convert');\n",
              "      buttonEl.style.display =\n",
              "        google.colab.kernel.accessAllowed ? 'block' : 'none';\n",
              "\n",
              "      async function convertToInteractive(key) {\n",
              "        const element = document.querySelector('#df-2120de6c-f5a2-426a-90bb-0aa7751666e7');\n",
              "        const dataTable =\n",
              "          await google.colab.kernel.invokeFunction('convertToInteractive',\n",
              "                                                    [key], {});\n",
              "        if (!dataTable) return;\n",
              "\n",
              "        const docLinkHtml = 'Like what you see? Visit the ' +\n",
              "          '<a target=\"_blank\" href=https://colab.research.google.com/notebooks/data_table.ipynb>data table notebook</a>'\n",
              "          + ' to learn more about interactive tables.';\n",
              "        element.innerHTML = '';\n",
              "        dataTable['output_type'] = 'display_data';\n",
              "        await google.colab.output.renderOutput(dataTable, element);\n",
              "        const docLink = document.createElement('div');\n",
              "        docLink.innerHTML = docLinkHtml;\n",
              "        element.appendChild(docLink);\n",
              "      }\n",
              "    </script>\n",
              "  </div>\n",
              "\n",
              "\n",
              "<div id=\"df-0b271e59-2ed3-488b-b41d-2d9e3688e6f5\">\n",
              "  <button class=\"colab-df-quickchart\" onclick=\"quickchart('df-0b271e59-2ed3-488b-b41d-2d9e3688e6f5')\"\n",
              "            title=\"Suggest charts\"\n",
              "            style=\"display:none;\">\n",
              "\n",
              "<svg xmlns=\"http://www.w3.org/2000/svg\" height=\"24px\"viewBox=\"0 0 24 24\"\n",
              "     width=\"24px\">\n",
              "    <g>\n",
              "        <path d=\"M19 3H5c-1.1 0-2 .9-2 2v14c0 1.1.9 2 2 2h14c1.1 0 2-.9 2-2V5c0-1.1-.9-2-2-2zM9 17H7v-7h2v7zm4 0h-2V7h2v10zm4 0h-2v-4h2v4z\"/>\n",
              "    </g>\n",
              "</svg>\n",
              "  </button>\n",
              "\n",
              "<style>\n",
              "  .colab-df-quickchart {\n",
              "      --bg-color: #E8F0FE;\n",
              "      --fill-color: #1967D2;\n",
              "      --hover-bg-color: #E2EBFA;\n",
              "      --hover-fill-color: #174EA6;\n",
              "      --disabled-fill-color: #AAA;\n",
              "      --disabled-bg-color: #DDD;\n",
              "  }\n",
              "\n",
              "  [theme=dark] .colab-df-quickchart {\n",
              "      --bg-color: #3B4455;\n",
              "      --fill-color: #D2E3FC;\n",
              "      --hover-bg-color: #434B5C;\n",
              "      --hover-fill-color: #FFFFFF;\n",
              "      --disabled-bg-color: #3B4455;\n",
              "      --disabled-fill-color: #666;\n",
              "  }\n",
              "\n",
              "  .colab-df-quickchart {\n",
              "    background-color: var(--bg-color);\n",
              "    border: none;\n",
              "    border-radius: 50%;\n",
              "    cursor: pointer;\n",
              "    display: none;\n",
              "    fill: var(--fill-color);\n",
              "    height: 32px;\n",
              "    padding: 0;\n",
              "    width: 32px;\n",
              "  }\n",
              "\n",
              "  .colab-df-quickchart:hover {\n",
              "    background-color: var(--hover-bg-color);\n",
              "    box-shadow: 0 1px 2px rgba(60, 64, 67, 0.3), 0 1px 3px 1px rgba(60, 64, 67, 0.15);\n",
              "    fill: var(--button-hover-fill-color);\n",
              "  }\n",
              "\n",
              "  .colab-df-quickchart-complete:disabled,\n",
              "  .colab-df-quickchart-complete:disabled:hover {\n",
              "    background-color: var(--disabled-bg-color);\n",
              "    fill: var(--disabled-fill-color);\n",
              "    box-shadow: none;\n",
              "  }\n",
              "\n",
              "  .colab-df-spinner {\n",
              "    border: 2px solid var(--fill-color);\n",
              "    border-color: transparent;\n",
              "    border-bottom-color: var(--fill-color);\n",
              "    animation:\n",
              "      spin 1s steps(1) infinite;\n",
              "  }\n",
              "\n",
              "  @keyframes spin {\n",
              "    0% {\n",
              "      border-color: transparent;\n",
              "      border-bottom-color: var(--fill-color);\n",
              "      border-left-color: var(--fill-color);\n",
              "    }\n",
              "    20% {\n",
              "      border-color: transparent;\n",
              "      border-left-color: var(--fill-color);\n",
              "      border-top-color: var(--fill-color);\n",
              "    }\n",
              "    30% {\n",
              "      border-color: transparent;\n",
              "      border-left-color: var(--fill-color);\n",
              "      border-top-color: var(--fill-color);\n",
              "      border-right-color: var(--fill-color);\n",
              "    }\n",
              "    40% {\n",
              "      border-color: transparent;\n",
              "      border-right-color: var(--fill-color);\n",
              "      border-top-color: var(--fill-color);\n",
              "    }\n",
              "    60% {\n",
              "      border-color: transparent;\n",
              "      border-right-color: var(--fill-color);\n",
              "    }\n",
              "    80% {\n",
              "      border-color: transparent;\n",
              "      border-right-color: var(--fill-color);\n",
              "      border-bottom-color: var(--fill-color);\n",
              "    }\n",
              "    90% {\n",
              "      border-color: transparent;\n",
              "      border-bottom-color: var(--fill-color);\n",
              "    }\n",
              "  }\n",
              "</style>\n",
              "\n",
              "  <script>\n",
              "    async function quickchart(key) {\n",
              "      const quickchartButtonEl =\n",
              "        document.querySelector('#' + key + ' button');\n",
              "      quickchartButtonEl.disabled = true;  // To prevent multiple clicks.\n",
              "      quickchartButtonEl.classList.add('colab-df-spinner');\n",
              "      try {\n",
              "        const charts = await google.colab.kernel.invokeFunction(\n",
              "            'suggestCharts', [key], {});\n",
              "      } catch (error) {\n",
              "        console.error('Error during call to suggestCharts:', error);\n",
              "      }\n",
              "      quickchartButtonEl.classList.remove('colab-df-spinner');\n",
              "      quickchartButtonEl.classList.add('colab-df-quickchart-complete');\n",
              "    }\n",
              "    (() => {\n",
              "      let quickchartButtonEl =\n",
              "        document.querySelector('#df-0b271e59-2ed3-488b-b41d-2d9e3688e6f5 button');\n",
              "      quickchartButtonEl.style.display =\n",
              "        google.colab.kernel.accessAllowed ? 'block' : 'none';\n",
              "    })();\n",
              "  </script>\n",
              "</div>\n",
              "    </div>\n",
              "  </div>\n"
            ]
          },
          "metadata": {}
        },
        {
          "output_type": "stream",
          "name": "stderr",
          "text": [
            "WARNING:root:Quickchart encountered unexpected dtypes in columns: \"(['preprocessed_tweet'],)\"\n"
          ]
        },
        {
          "output_type": "display_data",
          "data": {
            "text/plain": [
              "<google.colab._quickchart_helpers.SectionTitle at 0x7c4663852dd0>"
            ],
            "text/html": [
              "<h4 class=\"colab-quickchart-section-title\">Distributions</h4>\n",
              "<style>\n",
              "  .colab-quickchart-section-title {\n",
              "      clear: both;\n",
              "  }\n",
              "</style>"
            ]
          },
          "metadata": {}
        },
        {
          "output_type": "display_data",
          "data": {
            "text/plain": [
              "from matplotlib import pyplot as plt\n",
              "df['id'].plot(kind='hist', bins=20, title='id')\n",
              "plt.gca().spines[['top', 'right',]].set_visible(False)"
            ],
            "text/html": [
              "      <div class=\"colab-quickchart-chart-with-code\" id=\"chart-628d0334-f262-478d-89d8-28383d27db4d\">\n",
              "        <img style=\"width: 180px;\" src=\"data:image/png;base64,iVBORw0KGgoAAAANSUhEUgAAAi4AAAG5CAYAAACpwb+5AAAAOXRFWHRTb2Z0d2FyZQBNYXRwbG90\n",
              "bGliIHZlcnNpb24zLjcuMSwgaHR0cHM6Ly9tYXRwbG90bGliLm9yZy/bCgiHAAAACXBIWXMAAA9h\n",
              "AAAPYQGoP6dpAAAjAklEQVR4nO3de3BU9f3/8ddJFhapJJQgEJosMc1FLZclmDQTBS8tysUBJFCn\n",
              "FGFbaAItRUY7hYy2FaUJzFiU6lguY1MxHQolSFsuClgxWhHCHWMFIqwJmBDEJnEsRLLs7w/G/bqQ\n",
              "BJZfTjYf8nzMnBlzztmT9zbT9unZs+dYfr/fLwAAAANEhHsAAACAq0W4AAAAYxAuAADAGIQLAAAw\n",
              "BuECAACMQbgAAABjEC4AAMAYhAsAADAG4QIAAIxBuABol0aOHKmnn366yW3btm2TZVltPBGA9sAR\n",
              "7gEAoCmbN28O9wgA2iHOuAAAAGMQLgDapbvvvltPPPGEJGnPnj367ne/qxtvvFG33367Dh48GObp\n",
              "AIQLHxUBaNfq6+s1YsQIzZgxQyUlJfroo480ZsyYcI8FIEw44wKgXfvnP/+piIgIPfnkk3I6nbrt\n",
              "ttv0yCOPhHssAGFCuABo106cOKH4+HhFRkYG1t18881hnAhAOBEuANq1uLg4VVZWyufzBdZ5vd7w\n",
              "DQQgrAgXAO3aAw88IJ/Pp6eeekoNDQ368MMPtWTJknCPBSBMCBcA7Vp0dLQ2bdqkTZs2KSYmRpMn\n",
              "T9bMmTPDPRaAMLH8fr8/3EMAAABcDc64AAAAYxAuAADAGIQLAAAwBuECAACMQbgAAABjEC4AAMAY\n",
              "hAsAADDGdRcu3FETAIDr13UXLh9//HG4RwAAADa57sIFAABcvwgXAABgDMIFAAAYg3ABAADGIFwA\n",
              "AIAxCBcAAGAMwgUAABiDcAEAAMYgXAAAgDEIFwAAYAzCBQAAGINwAQAAxiBcAACAMQgXAABgDMIF\n",
              "AAAYwxHuAQAAQOtKmLfRtmN7F4627dhXgzMuAADAGIQLAAAwBuECAACMQbgAAABjEC4AAMAYhAsA\n",
              "ADAG4QIAAIxBuAAAAGMQLgAAwBiECwAAMAbhAgAAjEG4AAAAYxAuAADAGIQLAAAwRpuES2FhoSzL\n",
              "0vr16yVJNTU1GjFihJKTk9W/f3+VlJQE9m1pGwAA6NhsDxev16sVK1YoMzMzsG7evHnKzMzU0aNH\n",
              "VVhYqEmTJun8+fNX3AYAADo2W8PlwoULmj59up5//nk5nc7A+jVr1mjGjBmSpPT0dPXt21dvvfXW\n",
              "FbddqqGhQfX19UGLz+ez8y0BAIAwsjVcFi9erDvuuENDhgwJrDtz5ozOnz+vPn36BNYlJCSooqKi\n",
              "xW1NKSgoUHR0dNCya9cu+94QAAAIK9vC5f3331dxcbGeeOIJu36F8vLyVFdXF7RkZGTY9vsAAEB4\n",
              "Oew68Ntvvy2v16vk5GRJUnV1tXJycjR//nw5HA5VV1cHzqx4vV65XC7FxMQ0u60pTqcz6CMoSYqM\n",
              "jLTrLQEAgDCz7YzLzJkzVVVVJa/XK6/Xq8zMTC1fvlwzZ87UxIkTtXTpUklSaWmpTp48qbvuukuS\n",
              "WtwGAAA6NtvOuLRk0aJFevjhh5WcnKzOnTurqKhInTp1uuI2AADQsbVZuGzfvj3wz71799aWLVua\n",
              "3K+lbQAAoGPjzrkAAMAYhAsAADAG4QIAAIxBuAAAAGMQLgAAwBiECwAAMAbhAgAAjEG4AAAAYxAu\n",
              "AADAGIQLAAAwBuECAACMQbgAAABjEC4AAMAYhAsAADAG4QIAAIxBuAAAAGMQLgAAwBiECwAAMAbh\n",
              "AgAAjEG4AAAAYxAuAADAGIQLAAAwBuECAACMQbgAAABjEC4AAMAYhAsAADAG4QIAAIxBuAAAAGMQ\n",
              "LgAAwBiECwAAMAbhAgAAjEG4AAAAYxAuAADAGLaGy3333aeBAwfK7XZr6NCh2rdvnyQpISFBqamp\n",
              "crvdcrvdWr16deA1R48eVVZWllJSUpSenq6ysjI7RwQAAAZx2HnwNWvWqHv37pKkV199VR6PRwcO\n",
              "HJAkrV69Wm63+7LX5ObmKicnRx6PR2vXrpXH41FpaamdYwIAAEPYesblq2iRpLq6OlmW1eL+NTU1\n",
              "2r17tyZPnixJys7OVmVlpcrLy5vcv6GhQfX19UGLz+drtfkBAED7Yvs1LlOmTFF8fLx+/etf65VX\n",
              "XglaP2DAAE2bNk2nT5+WJFVWVio2NlYOx8UTQZZlyeVyqaKiosljFxQUKDo6OmjZtWuX3W8JAACE\n",
              "ie3hsnLlSlVWVmrBggWaO3euJKmkpEQHDx7U3r171bNnT02dOvWajp2Xl6e6urqgJSMjozXHBwAA\n",
              "7Yit17h83dSpUzVjxgydOXNGLpdLktSpUyfNmTNHKSkpkqT4+HhVVVWpsbFRDodDfr9fFRUVgf0v\n",
              "5XQ65XQ6g9ZFRkba+0YAAB1KwryNth3bu3C0bce+Xtl2xqW2tlaffPJJ4Of169crJiZGXbp0UW1t\n",
              "bWD9qlWrNHjwYElSr169lJaWpqKiIklScXGx4uLilJSUZNeYAADAILadcamrq9PEiRN19uxZRURE\n",
              "6KabbtKGDRt06tQpZWdny+fzye/3KzExUStXrgy8btmyZfJ4PMrPz1dUVJQKCwvtGhEAABjGtnDp\n",
              "169fsxfKfnU/l6akpqZqx44ddo0FAAAMxp1zAQCAMQgXAABgDMIFAAAYg3ABAADGIFwAAIAxCBcA\n",
              "AGAMwgUAABiDcAEAAMYgXAAAgDEIFwAAYAzCBQAAGINwAQAAxiBcAACAMQgXAABgDMIFAAAYg3AB\n",
              "AADGIFwAAIAxCBcAAGAMwgUAABiDcAEAAMYgXAAAgDEIFwAAYAzCBQAAGINwAQAAxiBcAACAMQgX\n",
              "AABgDMIFAAAYg3ABAADGIFwAAIAxCBcAAGAMwgUAABiDcAEAAMZwhHsAAC1LmLfRluN6F4625bgA\n",
              "YCdbz7jcd999GjhwoNxut4YOHap9+/ZJko4ePaqsrCylpKQoPT1dZWVlgde0tA0AAHRstp5xWbNm\n",
              "jbp37y5JevXVV+XxeHTgwAHl5uYqJydHHo9Ha9eulcfjUWlpqSS1uA0AgOuJXWdUr2e2nnH5Klok\n",
              "qa6uTpZlqaamRrt379bkyZMlSdnZ2aqsrFR5eXmL25rS0NCg+vr6oMXn89n5lgAAQBjZfo3LlClT\n",
              "9Oabb0qSNm3apMrKSsXGxsrhuPirLcuSy+VSRUWFoqOjm92WlJR02bELCgo0f/78oHWZmZk2vyMA\n",
              "ABAutn+raOXKlaqsrNSCBQs0d+7cVj12Xl6e6urqgpaMjIxW/R0AAKD9aLNvFU2dOlUzZsxQXFyc\n",
              "qqqq1NjYKIfDIb/fr4qKCrlcLkVFRTW7rSlOp1NOpzNoXWRkZFu8HQAAEAa2nXGpra3VJ598Evh5\n",
              "/fr1iomJUa9evZSWlqaioiJJUnFxseLi4pSUlNTiNgAAANvOuNTV1WnixIk6e/asIiIidNNNN2nD\n",
              "hg2yLEvLli2Tx+NRfn6+oqKiVFhYGHhdS9sAAEDHZlu49OvXT7t27WpyW2pqqnbs2BHyNgAA0LFx\n",
              "y38AAGAMwgUAABiDcAEAAMYgXAAAgDEIFwAAYAzCBQAAGINwAQAAxiBcAACAMQgXAABgDMIFAAAY\n",
              "g3ABAADGIFwAAIAxCBcAAGAMwgUAABiDcAEAAMYgXAAAgDEIFwAAYAzCBQAAGINwAQAAxiBcAACA\n",
              "MQgXAABgDMIFAAAYg3ABAADGIFwAAIAxCBcAAGAMwgUAABiDcAEAAMYgXAAAgDEIFwAAYAzCBQAA\n",
              "GINwAQAAxiBcAACAMWwLl3PnzmncuHFKSUnRoEGDNHz4cJWXl0uS7r77bt18881yu91yu9169tln\n",
              "A6+rqanRiBEjlJycrP79+6ukpMSuEQEAgGEcdh48JydHI0eOlGVZeuGFFzR9+nRt375dkvTss89q\n",
              "3Lhxl71m3rx5yszM1GuvvabS0lI9+OCDOn78uDp16mTnqAAAwAAhn3F5/fXXr2q/Ll26aNSoUbIs\n",
              "S5KUmZkpr9d7xdetWbNGM2bMkCSlp6erb9++euutt0IdEwAAXIdCDpennnpKqampWrJkierr66/6\n",
              "dUuWLNHYsWMDP8+bN08DBgzQQw89pGPHjkmSzpw5o/Pnz6tPnz6B/RISElRRUdHkMRsaGlRfXx+0\n",
              "+Hy+UN8SAAAwRMjh8u9//1t//etf9f777yslJUU/+9nP9MEHH7T4mvz8fJWXl6ugoECS9Morr+jD\n",
              "Dz/UwYMHNXToUD3wwAPXNHxBQYGio6ODll27dl3TsQAAQPt3TRfnDh48WCtWrNBrr72mDRs2aODA\n",
              "gRo+fLgOHTp02b7PPPOM1q1bp82bN6tr166SpPj4eEmSZVmaNWuWjh07pjNnzigmJkYOh0PV1dWB\n",
              "13u9XrlcribnyMvLU11dXdCSkZFxLW8JAAAY4JrCZdu2bRo7dqzGjx+vn//856qurlZubq4efPDB\n",
              "oP0WL16sVatWaevWrerevbskqbGxUadOnQrsU1xcrN69eysmJkaSNHHiRC1dulSSVFpaqpMnT+qu\n",
              "u+5qcg6n06moqKigJTIy8lreEgAAMEDI3yq69dZb1bNnT82ePVvjx48PhMKECRP00ksvBfY7ceKE\n",
              "HnvsMSUmJuqee+6RdDE0/vWvf2n06NFqaGhQRESEevbsqX/84x+B1y1atEgPP/ywkpOT1blzZxUV\n",
              "FfGNIgAAIOkawqWoqEhDhgxpctvmzZsD/xwXFye/39/kfrt37272+L1799aWLVtCHQsAAHQAIX9U\n",
              "tGfPHn322WeBn8+cOaMVK1a06lAAAABNCTlcXnzxRfXo0SPwc0xMjF588cVWHQoAAKApIYdLUx//\n",
              "cO8UAADQFkK+xiU2NlZr1qzRD37wA0nS6tWrFRsb2+qDAQAQioR5G8M9AtpAyOHy3HPPaezYsfrV\n",
              "r34lSeratav+/ve/t/pgAAAAlwo5XG655RZ98MEHOnz4sCQpNTWVe6cAAIA2cU1Ph7YsS927d1dj\n",
              "Y6NOnjwpSc3e3RYAAKC1hBwuf/7znzV79mx16tRJEREXr+21LEs1NTWtPhwAAMDXhRwuTz/9tEpL\n",
              "S5WammrHPAAAAM0K+evQPXv2JFoAAEBYhBwu48aN03PPPaeamhrV19cHFgAAALuF/FHR448/Lkl6\n",
              "9NFHZVmW/H6/LMviJnQAAMB2IYfLhQsX7JgDAADgikL+qEi6+KDFV155RZJUW1urqqqqVh0KAACg\n",
              "Kdf0kMWf/OQnevLJJyVdfDr0pEmTWnsuAACAy4QcLsuXL9d7772nqKgoSdK3v/1tnT59utUHAwAA\n",
              "uFTI4eJ0OnXDDTcErXM4rukGvAAAACEJOVxuuukmHTlyRJZlSbp4J11u9w8AANrCNT0d+oc//KE+\n",
              "/PBDxcfHKyoqShs2bLBjNgAAgCAhh0tSUpJ27typw4cPy+/383RoAADQZkIOl4qKCknSN77xDUni\n",
              "6dAAAKDNhBwuQ4YMCdwx99y5c/rf//6nmJgYng4NAABsF3K4XPrV53Xr1unAgQOtNhAAAEBzrunO\n",
              "uV83fvx4bdy4sTVmAQAAaFHIZ1y+/iRon8+nnTt38nRoAADQJkIOl+7duweucYmMjFRycrL+8Ic/\n",
              "2DEbAABAEJ4ODQAAjPH/fY0LAABAWwn5jEtERETgdv9f5/f7ZVmWfD5fqwwGAABwqZDD5amnntLZ\n",
              "s2c1c+ZMSdLSpUt1ww03aM6cOa09GwAAQJCQw+XVV1/Vnj17Aj8vWLBAQ4YM0eOPP96qgwEAAFwq\n",
              "5GtcPv/886C75NbU1Ojzzz9v1aEAAACaEvIZl8cee0yDBg3SqFGjJEmvvfaannzyydaeCwAA4DIh\n",
              "n3HJzc3V1q1b5Xa75Xa7tWXLFv30pz+9bL9z585p3LhxSklJ0aBBgzR8+HCVl5dLuniWZsSIEUpO\n",
              "Tlb//v1VUlISeF1L2wAAQMd2TV+HjomJ0YABA/SLX/xCqamp+vLLL5vcLycnR4cPH9aBAwc0duxY\n",
              "TZ8+XZI0b948ZWZm6ujRoyosLNSkSZN0/vz5K24DAAAdW8jhsnbtWmVmZurHP/6xJKmsrEzjxo27\n",
              "bL8uXbpo1KhRga9OZ2Zmyuv1SpLWrFmjGTNmSJLS09PVt29fvfXWW1fcdqmGhgbV19cHLXwdGwCA\n",
              "61fI4VJQUKC9e/eqe/fukqRBgwbp448/vuLrlixZorFjx+rMmTM6f/68+vTpE9iWkJCgioqKFrc1\n",
              "N0t0dHTQsmvXrlDfEgAAMETI4RIZGamYmJigdZ07d27xNfn5+SovL1dBQUGov65FeXl5qqurC1oy\n",
              "MjJa9XcAAID2I+RvFXXr1k2nTp0KfAT0xhtvqEePHs3u/8wzz2jdunXatm2bunbtqq5du8rhcKi6\n",
              "ujpwZsXr9crlcikmJqbZbU1xOp1yOp1B6yIjI0N9SwAAwBAhn3FZtGiRRo4cqWPHjunOO+/UlClT\n",
              "9Pvf/77JfRcvXqxVq1Zp69atgY+WJGnixIlaunSpJKm0tFQnT57UXXfddcVtAACgYwvpjMuFCxfk\n",
              "8/n05ptv6t1335Xf71dWVlZQlHzlxIkTeuyxx5SYmKh77rlH0sUzJDt37tSiRYv08MMPKzk5WZ07\n",
              "d1ZRUZE6deokSS1uAwAAHVtI4RIREaGcnBwdOHBAI0eObHHfuLg4+f3+Jrf17t1bW7ZsCXkbAADo\n",
              "2EL+qCg5OTlwIzkAAIC2FPLFuZ999pncbreysrJ04403BtavW7euVQcDAAC41FWHS05OjpYvX66p\n",
              "U6dqzJgx+uY3v2nnXAAAAJe56nDZvXu3JGnq1KlKS0vT3r17bRsKAACgKdf0rKLmLroFAACw01Wf\n",
              "cTl79qwOHTokv9+vc+fOBf75KwMHDrRlQAAAgK+EFC5jxowJ/Pz1f7YsS8eOHWvdyQAAAC5x1eHy\n",
              "1ZOdAQAAwuWarnEBAAAIB8IFAAAYI+Qb0AEAcK0S5m0M9wgwHGdcAACAMQgXAABgDMIFAAAYg3AB\n",
              "AADGIFwAAIAxCBcAAGAMwgUAABiD+7gAgKHsuieKd+FoW44LtAbOuAAAAGMQLgAAwBiECwAAMAbh\n",
              "AgAAjEG4AAAAYxAuAADAGIQLAAAwBuECAACMQbgAAABjEC4AAMAYhAsAADAG4QIAAIxBuAAAAGMQ\n",
              "LgAAwBi2hsvs2bOVkJAgy7K0f//+wPqEhASlpqbK7XbL7XZr9erVgW1Hjx5VVlaWUlJSlJ6errKy\n",
              "MjtHBAAABrE1XCZMmKB33nlH/fr1u2zb6tWrtX//fu3fv18PPfRQYH1ubq5ycnJ05MgRzZ07Vx6P\n",
              "x84RAQCAQWwNl2HDhikuLu6q96+pqdHu3bs1efJkSVJ2drYqKytVXl7e5P4NDQ2qr68PWnw+X6vM\n",
              "DgAA2p+wXeMyZcoUDRgwQNOmTdPp06clSZWVlYqNjZXD4ZAkWZYll8ulioqKJo9RUFCg6OjooGXX\n",
              "rl1t9h4AAEDbCku4lJSU6ODBg9q7d6969uypqVOnXtNx8vLyVFdXF7RkZGS08rQAAKC9cITjl7pc\n",
              "LklSp06dNGfOHKWkpEiS4uPjVVVVpcbGRjkcDvn9flVUVAT2v5TT6ZTT6QxaFxkZae/wAAAgbNr8\n",
              "jMsXX3yh2trawM+rVq3S4MGDJUm9evVSWlqaioqKJEnFxcWKi4tTUlJSW48JAADaIVvPuOTm5mrj\n",
              "xo2qrq7W/fffr27dumnLli3Kzs6Wz+eT3+9XYmKiVq5cGXjNsmXL5PF4lJ+fr6ioKBUWFto5IgAA\n",
              "MIit4bJs2bIm1+/bt6/Z16SmpmrHjh12jQQAAAzGnXMBAIAxCBcAAGAMwgUAABiDcAEAAMYgXAAA\n",
              "gDEIFwAAYAzCBQAAGINwAQAAxiBcAACAMQgXAABgDMIFAAAYg3ABAADGIFwAAIAxCBcAAGAMwgUA\n",
              "ABiDcAEAAMYgXAAAgDEIFwAAYAzCBQAAGINwAQAAxiBcAACAMQgXAABgDMIFAAAYg3ABAADGIFwA\n",
              "AIAxCBcAAGAMwgUAABiDcAEAAMYgXAAAgDEIFwAAYAzCBQAAGINwAQAAxiBcAACAMWwNl9mzZysh\n",
              "IUGWZWn//v2B9UePHlVWVpZSUlKUnp6usrKyq9oGAAA6NlvDZcKECXrnnXfUr1+/oPW5ubnKycnR\n",
              "kSNHNHfuXHk8nqvaBgAAOjZbw2XYsGGKi4sLWldTU6Pdu3dr8uTJkqTs7GxVVlaqvLy8xW1NaWho\n",
              "UH19fdDi8/nsfEsAACCMHG39CysrKxUbGyuH4+KvtixLLpdLFRUVio6ObnZbUlLSZccqKCjQ/Pnz\n",
              "g9ZlZmba/yaghHkbbTu2d+Fo244NADCb0Rfn5uXlqa6uLmjJyMgI91gAAMAmbX7GJT4+XlVVVWps\n",
              "bJTD4ZDf71dFRYVcLpeioqKa3dYUp9Mpp9MZtC4yMrIt3gYAAAiDNj/j0qtXL6WlpamoqEiSVFxc\n",
              "rLi4OCUlJbW4DQAAwNYzLrm5udq4caOqq6t1//33q1u3biovL9eyZcvk8XiUn5+vqKgoFRYWBl7T\n",
              "0jYAANCx2Rouy5Yta3J9amqqduzYEfI2dAxc+AsAaI7RF+cCAICOhXABAADGIFwAAIAxCBcAAGCM\n",
              "Nr+PC3A9svOCYgDA/yFc0KEQGP/HxP8s+FYYAMIFgDH4qjwArnEBAADGIFwAAIAxCBcAAGAMrnEB\n",
              "AAQx8cJtdByccQEAAMYgXAAAgDH4qAgAZN/HI3zNGmhdnHEBAADGIFwAAIAxCBcAAGAMwgUAABiD\n",
              "cAEAAMYgXAAAgDEIFwAAYAzu4wIANuL2+UDr4owLAAAwBuECAACMQbgAAABjEC4AAMAYhAsAADAG\n",
              "4QIAAIxBuAAAAGMQLgAAwBiECwAAMAbhAgAAjBG2cElISFBqaqrcbrfcbrdWr14tSTp69KiysrKU\n",
              "kpKi9PR0lZWVhWtEAADQzoT1WUWrV6+W2+0OWpebm6ucnBx5PB6tXbtWHo9HpaWl4RkQAAC0K+3q\n",
              "o6Kamhrt3r1bkydPliRlZ2ersrJS5eXlTe7f0NCg+vr6oMXn87XlyAAAoA2FNVymTJmiAQMGaNq0\n",
              "aTp9+rQqKysVGxsrh+PiiSDLsuRyuVRRUdHk6wsKChQdHR207Nq1qy3fAgAAaENhC5eSkhIdPHhQ\n",
              "e/fuVc+ePTV16tSQj5GXl6e6urqgJSMjw4ZpAQBAexC2a1xcLpckqVOnTpozZ45SUlIUHx+vqqoq\n",
              "NTY2yuFwyO/3q6KiIrDvpZxOp5xOZ9C6yMhI22cHAADhEZYzLl988YVqa2sDP69atUqDBw9Wr169\n",
              "lJaWpqKiIklScXGx4uLilJSUFI4xAQBAOxOWMy6nTp1Sdna2fD6f/H6/EhMTtXLlSknSsmXL5PF4\n",
              "lJ+fr6ioKBUWFoZjRAAA0A6FJVwSExO1b9++JrelpqZqx44dbTwRAAAwQbv6OjQAAEBLCBcAAGAM\n",
              "wgUAABiDcAEAAMYgXAAAgDEIFwAAYAzCBQAAGINwAQAAxiBcAACAMQgXAABgDMIFAAAYg3ABAADG\n",
              "IFwAAIAxCBcAAGAMwgUAABiDcAEAAMYgXAAAgDEIFwAAYAzCBQAAGINwAQAAxiBcAACAMQgXAABg\n",
              "DMIFAAAYg3ABAADGIFwAAIAxCBcAAGAMwgUAABiDcAEAAMYgXAAAgDEIFwAAYAzCBQAAGINwAQAA\n",
              "xiBcAACAMdpluBw9elRZWVlKSUlRenq6ysrKwj0SAABoB9pluOTm5ionJ0dHjhzR3Llz5fF4wj0S\n",
              "AABoBxzhHuBSNTU12r17t7Zs2SJJys7O1qxZs1ReXq6kpKSgfRsaGtTQ0BC0zufz2TZbwryNthzX\n",
              "u3C0LccFAOB60+7CpbKyUrGxsXI4Lo5mWZZcLpcqKiouC5eCggLNnz8/aN0tt9yiRx99tNXn8vl8\n",
              "it21SxkZGYqMjGzVYz/66Butery2MD7cAzTD5/Npl01/J7Qe/k5m4O9khrb+O9n1/1n9+vXTI488\n",
              "csX9LL/f77dlgmu0Z88eTZo0SYcPHw6sy8jI0MKFC3XvvfcG7dvUGRen0ymn09nqc9XX1ys6Olp1\n",
              "dXWKiopq9eOjdfB3MgN/JzPwdzJDR/s7tbszLvHx8aqqqlJjY6McDof8fr8qKirkcrku29euSAEA\n",
              "AO1Tu7s4t1evXkpLS1NRUZEkqbi4WHFxcZd9TAQAADqednfGRZKWLVsmj8ej/Px8RUVFqbCwMNwj\n",
              "AQCAdqBdhktqaqp27NgR7jGCOJ1O/fa3v+WjqXaOv5MZ+DuZgb+TGTra36ndXZwLAADQnHZ3jQsA\n",
              "AEBzCBcAAGAMwgUAABiDcAEAAMYgXK4CT6tu/86dO6dx48YpJSVFgwYN0vDhw1VeXh7usdCCwsJC\n",
              "WZal9evXh3sUNKGhoUGzZs1ScnKyBgwYoMmTJ4d7JDRj06ZNSktLk9vtVv/+/fXyyy+HeyRbtcuv\n",
              "Q7c3Xz2t2uPxaO3atfJ4PCotLQ33WLhETk6ORo4cKcuy9MILL2j69Onavn17uMdCE7xer1asWKHM\n",
              "zMxwj4JmzJs3T5Zl6ciRI7IsS9XV1eEeCU3w+/2aPHmytm/froEDB8rr9eqWW27R+PHj1a1bt3CP\n",
              "ZwvOuFzBV0+r/urfNrKzs1VZWcm/zbczXbp00ahRo2RZliQpMzNTXq83vEOhSRcuXND06dP1/PPP\n",
              "d5j7Tpjmiy++0EsvvaTf/e53gf9O9enTJ8xToTmWZam2tlbSxecWxcTEXNf/3SJcrqClp1Wj/Vqy\n",
              "ZInGjh0b7jHQhMWLF+uOO+7QkCFDwj0KmvHRRx+pR48eys/P1+23366hQ4fqjTfMe4p9R2BZllav\n",
              "Xq3x48erX79+uvPOO/Xyyy+rc+fO4R7NNnxUhOtOfn6+ysvL+R/aduj9999XcXGxSkpKwj0KWtDY\n",
              "2KiPP/5Yt912mxYuXKh9+/Zp+PDhKisrU+/evcM9Hr6msbFRCxYs0Lp16zRs2DCVlpZqzJgxOnTo\n",
              "kHr27Bnu8WzBGZcr+PrTqiW1+LRqhN8zzzyjdevWafPmzeratWu4x8El3n77bXm9XiUnJyshIUHv\n",
              "vfeecnJy9Mc//jHco+FrXC6XIiIi9KMf/UiSNHjwYN188806dOhQmCfDpfbv369PPvlEw4YNkySl\n",
              "p6crLi5O+/btC/Nk9iFcroCnVZtj8eLFWrVqlbZu3aru3buHexw0YebMmaqqqpLX65XX61VmZqaW\n",
              "L1+umTNnhns0fE3Pnj31ve99T6+//rok6fjx4zp+/LhuvfXWME+GS331L9f/+c9/JEnl5eX66KOP\n",
              "lJqaGubJ7MOziq7C4cOH5fF4dObMmcDTqgcMGBDusfA1J06cUHx8vBITEwNX0judTu3cuTPMk6El\n",
              "d999t+bMmaNx48aFexRc4tixY5o2bZo+/fRTRURE6De/+Y2ys7PDPRaasGrVKuXn5ysiIkIXLlxQ\n",
              "Xl6eJk2aFO6xbEO4AAAAY/BREQAAMAbhAgAAjEG4AAAAYxAuAADAGIQLAAAwBuECAACaNHv2bCUk\n",
              "JMiyLO3fv/+qXjNhwgT17ds36BlKknTo0CG53e7AkpCQoB49eoQ8E1+HBgAATSopKVFiYqLuvPNO\n",
              "rV+/Xm63+4qv2bZtmwYOHKjevXvrv//9b7M3BJ01a5Ysy9Lzzz8f0kyccQEAAE0aNmyY4uLiLltf\n",
              "Wlqqe++9V7fffrsGDx6sv/3tb4Ft3//+99WrV68Wj3vu3Dn95S9/0bRp00KeiYcsAgCAq1ZbW6uc\n",
              "nBxt2rRJsbGx+vTTT5WWlqasrCx961vfuqpjrFu3TomJiVd1BudShAsAALhq7777ro4dO6aRI0cG\n",
              "rT98+PBVh8tLL710TWdbJMIFAACEwO/36zvf+Y7efffda3r98ePH9d5776m4uPiaXs81LgAA4Kpl\n",
              "ZWXp+PHj2rZtW2Dd/v379eWXX17V6//0pz/pwQcfbPai3SvhW0UAAKBJubm52rhxo6qrqxUTE6Nu\n",
              "3bqpvLxce/fu1S9/+UudOXNG58+fl8vl0vr169WlSxeNHj1aBw4c0MmTJ9W3b18lJydr+/btkqQL\n",
              "Fy6oX79+Wrlype65555rmolwAQAAxuCjIgAAYAzCBQAAGINwAQAAxiBcAACAMQgXAABgDMIFAAAY\n",
              "g3ABAADGIFwAAIAxCBcAAGAMwgUAABjj/wFrUQWB0bDqeQAAAABJRU5ErkJggg==\n",
              "\">\n",
              "      </div>\n",
              "      <script type=\"text/javascript\">\n",
              "        (() => {\n",
              "          const chartElement = document.getElementById(\"chart-628d0334-f262-478d-89d8-28383d27db4d\");\n",
              "          async function getCodeForChartHandler(event) {\n",
              "            const chartCodeResponse =  await google.colab.kernel.invokeFunction(\n",
              "                'getCodeForChart', [\"chart-628d0334-f262-478d-89d8-28383d27db4d\"], {});\n",
              "            const responseJson = chartCodeResponse.data['application/json'];\n",
              "            await google.colab.notebook.addCell(responseJson.code, 'code');\n",
              "          }\n",
              "          chartElement.onclick = getCodeForChartHandler;\n",
              "        })();\n",
              "      </script>\n",
              "      <style>\n",
              "        .colab-quickchart-chart-with-code  {\n",
              "            display: block;\n",
              "            float: left;\n",
              "            border: 1px solid transparent;\n",
              "        }\n",
              "\n",
              "        .colab-quickchart-chart-with-code:hover {\n",
              "            cursor: pointer;\n",
              "            border: 1px solid #aaa;\n",
              "        }\n",
              "      </style>"
            ]
          },
          "metadata": {}
        },
        {
          "output_type": "display_data",
          "data": {
            "text/plain": [
              "<google.colab._quickchart_helpers.SectionTitle at 0x7c4663853340>"
            ],
            "text/html": [
              "<h4 class=\"colab-quickchart-section-title\">Values</h4>\n",
              "<style>\n",
              "  .colab-quickchart-section-title {\n",
              "      clear: both;\n",
              "  }\n",
              "</style>"
            ]
          },
          "metadata": {}
        },
        {
          "output_type": "display_data",
          "data": {
            "text/plain": [
              "from matplotlib import pyplot as plt\n",
              "df['id'].plot(kind='line', figsize=(8, 4), title='id')\n",
              "plt.gca().spines[['top', 'right']].set_visible(False)"
            ],
            "text/html": [
              "      <div class=\"colab-quickchart-chart-with-code\" id=\"chart-6ab24180-ddc8-4b66-a545-00f88f0e3b81\">\n",
              "        <img style=\"width: 180px;\" src=\"data:image/png;base64,iVBORw0KGgoAAAANSUhEUgAAApAAAAFuCAYAAAA2xSikAAAAOXRFWHRTb2Z0d2FyZQBNYXRwbG90\n",
              "bGliIHZlcnNpb24zLjcuMSwgaHR0cHM6Ly9tYXRwbG90bGliLm9yZy/bCgiHAAAACXBIWXMAAA9h\n",
              "AAAPYQGoP6dpAAA5JUlEQVR4nO3deXhU5cH+8fvMTDLZ9xWSECAJ+yKbrCIUXJC6b3Xf6va6Fetb\n",
              "7SvV1iq1+tLS2kXrVpefWuv2qqgFZFORsAoCgQQSkkASErJvk2Tm/P6IxqYsMiHJmSTfz3XlIjlz\n",
              "JnNPHgO3z1kewzRNUwAAAMAJslkdAAAAAD0LBRIAAABeoUACAADAKxRIAAAAeIUCCQAAAK9QIAEA\n",
              "AOAVCiQAAAC8QoEEAACAVyiQAAAA8AoFEgBO0Nlnn61HHnnkqI8tX75chmF0cyIAsIbD6gAA0FN8\n",
              "9NFHVkcAAJ/ADCQAAAC8QoEEgBN0+umn68EHH5Qkbdq0SaeeeqpCQkI0YcIEbdu2zeJ0ANB9OIQN\n",
              "AF6qrq7WWWedpVtvvVVr1qzR3r17de6551odCwC6DTOQAOCl999/XzabTQ8//LCcTqeGDx+uu+++\n",
              "2+pYANBtur1A3nXXXUpNTZVhGNq6desJPefiiy9Wv379ZBiGKisr27Zv375dY8eObftITU1VVFRU\n",
              "1wQHgG8UFhYqOTlZdru9bdvAgQMtTAQA3avbC+TFF1+szz77TAMGDDjh59x6661HLZujRo3S1q1b\n",
              "2z7mz5+vK6+8shPTAsCRkpKSVFBQILfb3bYtLy/PukAA0M26vUCedtppSkpKOmL7hg0bNHv2bE2Y\n",
              "MEGnnHKK3nzzzbbH5syZo7i4uON+38bGRr366qu68cYbOz0zAPy7+fPny+1261e/+pVcLpeysrK0\n",
              "ZMkSq2MBQLfxiXMgKysrdfPNN+vVV1/Vxo0btWzZMt177706cODACX+Pt99+W4MGDdLYsWO7LigA\n",
              "SAoPD9fSpUu1dOlSRUdH66qrrtJtt91mdSwA6DY+cRX2F198oX379unss89ut3337t3q37//CX2P\n",
              "5557jtlHAF1q1apVbZ9PmjRJGzZsaPf4ggULujkRAFjDJwqkaZoaMWKEvvjiiw49Pzc3V19++aXe\n",
              "euutTk4GAACA/+QTh7CnTp2q3NxcLV++vG3b1q1b1dTUdELPf/7553XBBRcoIiKiixICAADgW4Zp\n",
              "mmZ3vuAtt9yiDz/8UMXFxYqOjlZoaKhycnK0efNm/fSnP9Xhw4fV3NyslJQUvfvuuwoICNA555yj\n",
              "r776SgcOHFC/fv2Unp7edijJ4/FowIABeumllzRr1qzufCsAAAB9UrcXSAAAAPRsPnEIGwAAAD0H\n",
              "BRIAAABeoUACAADAK91aIFmpAQAAoOfr1gK5f//+7nw5AAAAdAEOYQMAAMArFEgAAAB4hQIJAAAA\n",
              "r1AgAQAA4BUKJAAAALxCgQQAAIBXKJAAAADwCgUSAAAAXqFAAgAAwCsUSAAAAHil1xZIt8dUY7Pb\n",
              "6hgAAAC9jsPqAF2h2e3Rvf/4SvvKanXtlFT1iwhUfJhTQf4OhQX6KcTZK982AABAt+iVTSrnUK3+\n",
              "tbNYjc0e3ffPbUc8nhIVpPgwp4Ylhmn8gEg5bDbZbZLNMGS3GbLZjNbPDUM2m2Q3DPk5bBqaEKog\n",
              "/175IwMAADhhvbINDUsM0z9vnaqn1+zToepGlda4dLiuSXWuFrV4TOWX1yu/vF4b8ir00rr9J/x9\n",
              "/e02XTctVbecNkjRIc4ufAcAAAC+yzBN0+yuF1uwYIEWL17cXS93VJX1TdpSUKk3NxaozuVWs9uj\n",
              "Fo8pj8eU2/z3PyWPacr9zdf7D9fL7fnuRxUf5lRUsFOnDozST+ZkKDzIz8J3BQAA0H165Qzk8UQE\n",
              "+WvWkDjNGhLn1fNcLW49+cluvf9VkYqrG1VS7VJJtUu7iqr14hd5evSCkbpsQrIc9l57XRIAAICk\n",
              "PjgD2RkOVjbocG2Tnv1sn97berDdY2lxIbpnTrqigv0V6vRTRJCf+kUEym4zLEoLAADQuSiQJ6ms\n",
              "1qVHP9yl5btKVNPYctR97DZDzm8uwnlg3jAlRwYpLtQpG6USAAD0QH3uEHZniwlx6neXjZXbY+qD\n",
              "bQf1wbYildc1qbqhWbWuFh2ubVKT26P6Jrc251fqkr+ukyT52Q3FhwUoNTpYdts3V38bhhy2764E\n",
              "d3x7NbittYQ6bDalx4dozrB4JYYHyDAooAAAoPtRIDuJ3WbovLH9dd7Y/u22uz2mDte6tGxXif5v\n",
              "60EdqGxQUVWjmt2mCisaVFjR4PVr/eK9HXLYDIUF+iktLkQDo4M1NiVCQf52OR02Of3sSo8LUVxo\n",
              "gPwdnJMJAAA6F4ewLdDi9qiwokFZxTVqbHa3uwq87XPPd1eAf/t5Q7Nby3eWKPtQ7Qm/lsNmKCUq\n",
              "SKOSwhUX6tSE1ChlxIcqJSqI8zIBAECHUCB7GNM0VdfkVk1jsw7XNin7UI02769UYUW9XC0eNbV4\n",
              "VOtqUfah2na3HfpPAX42RQc7FRfm1JD4UC2Ym6G4sIBufCcAAKCnokD2Us1uj+pdbpXUNGprfqVK\n",
              "a13atL9ChRX12n+4tWz+O4fN0CPnj9TF45Pkx62IAADAcXAOZC/lZ7cpPMim8CA/ZcSHtnvM7TGV\n",
              "W1aroqpGffx1sT7YVqSqhmY98PZ2/WXVXk1Li1GAn02RQf5KCAvQ6ORwDU0Is+idAAAAX0OB7IPs\n",
              "NkNpcaFKiwvVjPRYXT8tVYuX7dGnWYdal3nMzD/iOUMTQvXwuSM0eVC0BYkBAIAv8bpALl26VA8+\n",
              "+KA8Ho9aWlp033336dprr+2KbOgmaXGh+vOV47W3tFaf7ChWc4upxha3SqobtX5fuQ5Utl7wc/kz\n",
              "X+r/7pim0UkRVkcGAAAW8uocSNM0FR0drVWrVmn06NHKy8vT0KFDVVpaqtDQ0O99PudA9jxNLR59\n",
              "9HWR7n59qyQpyN+uFffOVGJ4oLXBAACAZbyegTQMQ5WVlZKk6upqRUdHy+l0dnYu+Ah/h03nje2v\n",
              "qYNjdM3zmdpVVK0piz7VpIFRGpscoXEpEYoJcSotLkRhAX6srgMAQB/gVYE0DENvvPGGLrzwQgUH\n",
              "B6uiokJvv/22/P39j9jX5XLJ5XK12+Z2u08uLSwTG+rUk5eM1kV/+UKNzR5l5pYrM7e83T7+dptu\n",
              "mjFQ9505hFVyAADoxbw6hN3S0qI5c+boV7/6lU477TRt2LBB5557rrZv366YmJh2+z788MP65S9/\n",
              "2W7b5MmTtW7dus5JDkscqm7UjoPV2lJQqS35FWpocretrvOtjPgQDYoJaVui8dtlGgP9bRocG6KL\n",
              "xycpNMDPwncBAABOhlcFcuPGjbriiiu0Z8+etm0TJ07UY489prlz57bb92gzkAsXLtSSJUtOMjJ8\n",
              "UWOzW39amaNn1+aqofn7Z5rT40IUFuin1OhgjR8QqcsmJrMyDgAAPYRXBbKkpERpaWnKzMzUsGHD\n",
              "lJOTo0mTJmnr1q1KSUn53udzEU3vV9XQrE+zSlTb2PLNUoxqW6Yxq6ha7249eNTnxYU6lRoTrEA/\n",
              "e+uHv10pUUG6eHySkqOCuvldAACA4/HqHMj4+Hg988wzuvTSS2Wz2eTxePTUU0+dUHlE3xAe6KcL\n",
              "Tkk65uML5g7RwaoGeTymDtW4tGxXiVbvLtWhGpcO1biO2H/JimxNT4tRRnyoYkL9NTY5QqckRyrQ\n",
              "396VbwMAABwHSxnCcvVNLdqQV6HaxhY1NLvV0OzWwcoG/WXV3qPubzOkQbEhyogPUWSQv6YMjtbQ\n",
              "hFCFBfopPNBPTgflEgCArsRKNLBckL9DMzNij9h+z5x0/WNjoarqm1RR36yvD1RpX1mdSmtcyjlU\n",
              "q5xDtZKkV9e3XzknwM+mpMggzR+dqP4RgXLYDY3qH660uO+/VykAAPh+FEj4LKfDrqsnD2i3zTRb\n",
              "D33vOFilgvIGFVbUa+XuUpXWuFTd2CzTlBqbPco5VKvfL89u99yhCaEKC/BTgL9dCWFOnT0yUacP\n",
              "ieWWQwAAeIkCiR7FMAzFhwUoPiygbdv/nNP6p8djqsbVoqKqBi3dVqS8w/WqbGhWXlmd8svrlVVc\n",
              "0+57/WNjoUIDHAp1OnT5pBTd9YP07nwrAAD0WBRI9Bo2m6Hwb86DHJoQ1rbdNE1lFdeopLpR9U1u\n",
              "FVbUKzO3XGuzy1TT2KKaxhYtXrZHK3cf0oh+YbpuaiqHuwEAOA4uokGfVedqUWFFgy57Zp0q65vb\n",
              "PXb+2H763WVjObwNAMBRMAOJPivY6dCQhFBtenCucg7ValthpX721jZ5TOndrQf1adYh3TB9oKal\n",
              "xWhMUoT8HTarIwMA4BP4FxF9nt1maEhCqC6ZkKzsR+fpR5OSJUnVjS36/fJsXfLXdZr15Co1tXgs\n",
              "TgoAgG/gEDZwFNWNzXp53X6t2FWizfmVbdtDAxwaGBOsgTHBGhwbohunD1Swk4l8AEDfQoEEvseL\n",
              "n+fqiU92q67pyDW+DUPqFx4of4dNcaFOJUcFKTrEX06HXU6HTbEhTgU7HUqMCFBkkL8C/eyKDXWy\n",
              "7jcAoEdj6gT4HtdNG6irJg9QZUOzKuqalH2oVruLa/Tq+v0qq23SgcoGSVJuWZ3W55Z/7/eLCfFX\n",
              "/8ggBfrZFOhnV5C/Q0mRgUqPD1V6XIiiQ/wVE+JUgB8r6gAAfBMFEjgBDrtNMSFOxYQ4lR4fqnmj\n",
              "EnXn7DTtLa1TQ7Nbrma3CioaVFzVoMr6ZrlaPGpsdqukxqXDtS6VVLvkanartqlFZbVNKqtt+t7X\n",
              "nJEeo99cNFr9IwK74R0CAHDiKJBABznsNg1J+O5+kaeewHMam93aWlDZbt3vQ9WN2ldap4NVDdpX\n",
              "WqdDNS5J0trsMk37zaeakR6j3148WonhFEkAgG+gQALdKMDPrsmDoo+7j9tj6vGPs7RsZ4lyy+q0\n",
              "NrtMUxZ9quSoQE0bHKOM+FCN7B+ukf3DFOTPrzAAoPvxrw/gY+w2Qz+fN0w/nzdMS7cX6YG3t6uq\n",
              "oVkF5Q16vbyg3b6p0UEa2T9cEwZEKjEiUEmRgRoSHyqHnTt0AQC6DgUS8GHzRiXq7JEJ2ri/Ql8f\n",
              "qNLK3aUqrXFpX2mtXC0e5R2uV97hen2wrajtOYnhAbr99MEamhjGDdABAF2CAgn4OMMwNDE1ShNT\n",
              "o3T9tIGSWtf3Lq1xaeP+CmXmlutgZYMO1bi091CtiqoatfC9HZKklKgg3X/2UI3qH674sADKJACg\n",
              "U1AggR7IMAzFhQVo3qhEzRuV2La91tWiZ9bs09aCSq3ZU6r88nrd/urmtsdjQpwa2T9MI/uFa2T/\n",
              "cM0ZFsfhbgCA1yiQQC8S4nRowdwMSVJmbrmeXr1XByobtLukRqYpldW6tGp3qVbtLm17zvDEMCVF\n",
              "BmrSwCgNjAlWbKhTUcH+8rfb5LDbFOJ0MHMJAGiHAgn0UpMGRmnSwChJrVd2VzU0a09JjXYerNb2\n",
              "A1V6Z8sBSdLOomrtLKrWv3aWHPX7OGyGBseGaExyuP5n3nCFB/l123sAAPgmljIE+qiq+mbll9er\n",
              "oKJe6/cdVkFFg0prXCqtcam8vkktbo88//G3g82QMuJDddG4JF0/LZXD3wDQR1EgARyT22Nq+4Eq\n",
              "7Smu0d/W7lP2odq2x1KjgzR5ULScDpsC/R1KiwtRv4gARQc71S8iQH52m/ztNtlY9xsAeh0OYQM4\n",
              "JrvN0NjkCI1NjtAlE5K0t7ROr2fm68Uv8tpuIfR9bIbkZ7d982HIYbfJz2bIz9G6FnhieIBCAvwU\n",
              "4rQrxOlQsNOhEKdDYYF+mjssXpHB/t3wTgEA3qBAAjghhmEoLS5ED84frptmDNLnOWU6WNmgJrdH\n",
              "lfWt51cermtSUWWD6prcbc/zmJKrxSNXi+eo3zeruOaYrzlnWLyevXZCp78XAMDJoUAC8FpCeIAu\n",
              "Gp901Mc8HlNNbo+a3R41u021uD1qcnvU4jbbtjW7PWrxeFTd0KJDNY2qdblV52pRnatFta4WZZfU\n",
              "KjOvXMt3lejh/9uhh88d0c3vEABwPBRIAJ3KZjMUYLMrwM9+Ut/nv//5lf6xsVAvfpGn3cU1uvm0\n",
              "QZoyOPqkvy8A4ORRIAH4pMcvGq3tB6q1q6ha6/Yd1rp9hyVJyVGBmjIoWuMHROrUgdFKjQm2OCkA\n",
              "9D0USAA+yTAMfXjndG0trNQr6/Zr+a4SVTe2qKC8QQXlhfrHxkJJrVeDjxsQqbHJEZqWFqPBsSEW\n",
              "JweA3o8CCcBn2WyGxqVEalxKpEzTVEV9szbkleuTr4u1Kb9C+7+5EjzvcL3e3nxAdpuh2UPjNDY5\n",
              "QjdMG6hAfw53A0BXoEAC6BEMw1BUsL/OHJGgM0ckSJKKqhq0dk+Z9pfX6Yu9h7Ulv1LLdpZo2c4S\n",
              "Hapu1C/PG2lxagDonSiQAHqsxPBAXToxWZJkmqbWZpfpkx3FenV9vt7cVKiHzx0hw+BG5gDQ2SiQ\n",
              "AHoFwzB0WkasJg2M0hsbClTf5NbU33yq5MggOf1sSggL0H/NSuOiGwDoBBRIAL1KgJ9dD8wbpsc/\n",
              "zlJRVaOKqhrbHntzU6FuPm2Qfj5vmIUJAaDno0AC6HVunD5Q54xK1NcHqtTk9qiivkl/+jRHB6sa\n",
              "9ezafbpzdppCA/ysjgkAPRYFEkCvlBAeoITwgLavr5iUoqELP5arxaMzf7dGF45L0oTUSMWEOBUV\n",
              "7K+EsADZbJwvCQAnggIJoE8wDENXnJqiFz7P08GqRj21Mqfd48H+dj107ghdOiHZooQA0HNQIAH0\n",
              "GffMyVD/iEBVNTRrb2mtdhyslqvZo+LqRtU1ufXf/9ym7YVV+sncDEUF+1sdFwB8FgUSQJ8RHuin\n",
              "m2YMOmJ7Q5NbVz23Xpv2V+jlL/dr6fYi/f7ysZowIIqbkQPAUdisDgAAVgv0t+vNW6boZ2cNlSQd\n",
              "rmvS1c9latwjy/Tw/+1Qi9tjcUIA8C0USABQ67KJt50+WEsuH6v0uNb1tBua3Xrxizx9sK3I4nQA\n",
              "4FsokADwb84b21/LFszU2v+epRnpMZKk5z/PVVmty+JkAOA7OAcSAI4iOSpIv7lotOb872ptK6zS\n",
              "hF8v18CYYPWLCFB8aIBOHRSl6GCnHHZDqdHBrHADoE+hQALAMfSPCNSz107Q3a9vVVmtS7lldcot\n",
              "q5Mkvb3lQLt9zx6ZoPEDInVaRqwy4kOtiAsA3cYwTdPsrhdbsGCBFi9e3F0vBwCdZk9JjYqrGpV9\n",
              "qFbbCitVWNGgFrdH+eX1qqhvbrevv8OmuFCnzhieoIXzh8kwuEE5gN6FAgkAJ8E0Ta3JLtO6vYf1\n",
              "7Np9avEc+Veq3WYoOthfl05I1g3TB3KPSQA9HgUSADqJx2OqrM4lV7NH9/7jK2XmlR+xj5/d0CPn\n",
              "jdTlk1IsSAgAnYNzIAGgk9hshuJCW9ff/setU1RZ36QWj6k9xTXaXVKjP63MUVltk37+znZtO1Cl\n",
              "66amcr4kgB6J2/gAQBeJCPJXTIhTU9NidP20gVq+YKYigvzkMaX/tz5fZ/xujVbvKeVG5QB6HAok\n",
              "AHSTiCB/rbz3dD1y3oi2bdc+n6mn1+yzMBUAeI8CCQDdKDLYX1dPSdWjF4yU09H6V/ATn+zWxqOc\n",
              "LwkAvooCCQAWuPLUAdr28BkaFNt6A/K7X9+qxma3xakA4MRQIAHAIk6HXf93x3TFhDh1oLJBZy9Z\n",
              "q0+zStSNN8cAgA6hQAKAhUKcDt0zJ12SlFtWpxte3KgL/vyF3Ee5nyQA+AoKJABY7IpJKfrJnAzN\n",
              "SI+RJG0tqNRnOWUWpwKAY6NAAoDFbDZDd89J18s3nqqJqZGSpKc+zbY4FQAcGwUSAHzIwvnDJUkb\n",
              "8ir0X/9vs97/6qAOVDZYnAoA2mMlGgDwIaOTIjQ8MUw7i6r14bYifbitSH52Q7+5cLQuGp9kdTwA\n",
              "kMQMJAD4nBdvmKj/mjVY543tp8TwADW7Td375lf6nPMiAfgIrwuky+XSHXfcofT0dI0aNUpXXXVV\n",
              "V+QCgD4rLjRA9505VEsuP0Wf/2y2hnyzXvbiZXssTgYArbw+hH3//ffLMAzt2bNHhmGouLi4K3IB\n",
              "ANR6gc1z103Q9MdXatP+Cm3IK9fE1CirYwHo47yagayrq9Nzzz2nRx99VIZhSJISEhK6JBgAoFVS\n",
              "ZJDOGZUoSbrkr+v07pYDFicC0Nd5VSD37t2rqKgoPfbYY5owYYJmzJihFStWHHVfl8ul6urqdh9u\n",
              "N8t0AUBH/Pi0QfL/Zu3se97Yqgm/XqZn1uxl1RoAlvCqQLa0tGj//v0aPny4Nm7cqD/84Q+67LLL\n",
              "VFJScsS+ixYtUnh4eLuPzMzMTgsOAH3J2OQIbVk4V1MHR0uSymqb9NjSLJ29ZK2eXbtPDU38DzqA\n",
              "7mOYXvzva1lZmeLj49XU1CS73S5JmjhxohYtWqQ5c+a029flcsnlcrXbtnDhQi1ZsqQTYgNA32Sa\n",
              "pr4+UK173tii/PJ6Nbtb/woPC3Do7dunKi0u1OKEAPoCry6iiYmJ0Q9+8AN98sknmjdvnnJzc5Wb\n",
              "m6thw4Ydsa/T6ZTT6Wy37dvSCQDoGMMwNCopXCvuPV2V9U3656ZC/frDXapubNGcxWs0a0is0uJC\n",
              "NDg2REMTwzS6f7hsNsPq2AB6Ga9mICVp3759uvHGG1VWViabzaZf/OIXuuiii07ouQsWLNDixYs7\n",
              "FBQAcHRfH6jSNc9nqryu6YjHAvxseuiHI/SjSSkWJAPQW3ldIE8GBRIAuobHY2rdvsPaVVStgvJ6\n",
              "5R2u1+o9pW2PD4wJ1jVTBui6qaltd9EAgI6iQAJAL1VZ36SF7+3Q+18dbNsWHeyv6ekxunZqqk5J\n",
              "jqBMAugQCiQA9HJFVQ1a+O4OLd/V/o4Z6XEhGtU/XLOHxWn+6H4WpQPQE3m9Eg0AoGdJDA/Us9dO\n",
              "UEOTWxvyyvXMmn3KzCtX9qFaZR+q1dtbDujtzQf0+8vHKizAz+q4AHoACiQA9BGB/nadlhGr0zJi\n",
              "Vd3YrGU7SrR8V4k++rpYn2Yd0s0vbdRrP57MYW0A38urG4kDAHqHsAA/XTQ+SX/40Sm6bEKyJOnL\n",
              "feXaXVLD6jYAvhczkADQh/nZbXr84tHakFeufWV1Ouv3a+Vvtyk21KmM+BD9/vJTFB7IYW0A7TED\n",
              "CQDQNVMGKDrYX5LU5PboQGWDVu4u1elPrNR7Ww+osv7Ie0wC6LuYgQQA6LppA3XdtIFqavGotNal\n",
              "P67I1usbClRR36y7X98qh81QWlyI7j1jiOYOj7c6LgCLUSABAG38HTb1jwjUr88fqXEDIrX3UK0+\n",
              "2FakA5UNyiqu0Y9f2ih/h01RQf764ZhETU2LUZCfXWOSIxTgx3K1QF/BfSABAN9rX2mt7n3zK23J\n",
              "rzzq4zEh/pqeFqNHzh+pUG4FBPR6zEACAL7XoNgQvXP7NNW5WlRY0aCX1uUpv7xe5XVNKqxoUFlt\n",
              "k97delA7DlbrvTumKciff16A3ozfcADACQt2OjQkIVSPXjCqbVtDk1t/Wpmjp1bmKPtQrUY//C+9\n",
              "ccsUjR8QaWFSAF2Jq7ABACcl0N+un545RD+fN1SS1OIxdfurmyxOBaArUSABAJ3i5tMG65HzR0qS\n",
              "Sqpd2lVUbXEiAF2FAgkA6DRXTkrRwJhgSdI9r2/Ve1sPqM7VYnEqAJ2NAgkA6DQ2m6EFczMkSbtL\n",
              "anT361s14qFP9MXeMouTAehMFEgAQKeaNypRvzpvhM4emdC27Yq/rVdWMYe0gd6CAgkA6FR2m6Fr\n",
              "pqTqL1eN18qfni5/R+s/Nf/zztcczgZ6CQokAKDLDIwJ1sd3z5DdZmjT/gpd83ym1ZEAdAIKJACg\n",
              "Sw2KDdFvLmy9b+Sm/RV6a1OhxYkAnCwKJACgy10yIVmXTkiSJN33z69UVNVgcSIAJ4MCCQDoFo9e\n",
              "MEqJ4QHymNJ9b26TaZpWRwLQQRRIAEC38LPb9OQlYyRJn+WUadJjK7R6T6nFqQB0BAUSANBtpqXF\n",
              "6Bfzh0uSSmtcuuXljXrh81ztLq6xOBkAb1AgAQDd6obpA/XyjZMkSY3NHv3y/Z0696nPVF7XZHEy\n",
              "ACeKAgkA6HYz0mP1+f2zdefsNEmSq8WjOYtXK/9wvcXJAJwICiQAwBL9IwJ17xlD9NMzWpc+LK9r\n",
              "0mlPrNTnOSx7CPg6CiQAwFK3n56mp644pe3rK59dr+2FVWpxeyxMBeB4KJAAAEvZbIbmj+6nj+6e\n",
              "0bbth099pqueW29hKgDHQ4EEAPiEYYlhevKSMRrVP1yS9OW+cq3N5jY/gC+iQAIAfMbF45P0/p3T\n",
              "NSY5QpJ09XOZXFgD+CAKJADA5zx2wcjvPl+6y8IkAI6GAgkA8Dkj+oXrxzMGSpK2FFRYnAbAf6JA\n",
              "AgB80oK5Q2S3GSqpdrHkIeBjKJAAAJ8U6G/XyH5hkqRrn8/Ug+9uVzO39gF8AgUSAOCznrxkjIYl\n",
              "tpbIV77M18/e2mZxIgCS5LA6AAAAx5IeH6r375im3y/P1lMrc/T25gMqLG/QyP7hmjkkVjMzYq2O\n",
              "CPRJzEACAHyaw27TvWdkaMKASElSZl65nv88V9c+n6nnPsu1OB3QN1EgAQA+zzAMvXHLFP3xR6fo\n",
              "v88aooz4EEnSIx/s1L7SWovTAX0PBRIA0CPYbYZ+OKafbj89Te/cPk0JYQGSpNn/u1oPvL1d5XVN\n",
              "FicE+g4KJACgxwl2OvTnq8bJYTMkSa9l5mvcI8v08ro8LdtZwtXaQBejQAIAeqRxKZHa9OBcPXD2\n",
              "0LZtC9/boR+/tFG//mCnDtU0WpgO6N24ChsA0GOFB/nplpmDNSA6SCuzSvXGxgJJ0t/X7dff1+3X\n",
              "oNhg3X/WUJ0xIsHipEDvwgwkAKDHO2tkoh6/eLS+eugMnZYRq7CA1vmRfaV1uvnlTdqYV25xQqB3\n",
              "oUACAHqN8EA/vXTDJG17+Ex9eu9MGa2nSOq3H+9WdkmNteGAXoQCCQDolQbFhuj9O6bL325TZl65\n",
              "5v5ujU5/YqV2Hqy2OhrQ41EgAQC91sj+4XrmmvEaFBMsSco7XK/bX91kcSqg56NAAgB6tdOHxOnT\n",
              "n56ul2+cJKm1RP5hRbbFqYCejQIJAOgTZqTHataQ1rWzFy/bo8KKeosTAT0XBRIA0Gc8c80ExYT4\n",
              "S5Iue/pL1blaLE4E9EwUSABAn+Fnt+nlG09VWIBDByobdNkz69TY7LY6FtDjUCABAH3KsMQw3Tk7\n",
              "XZL09YFqPfdZrsWJgJ6HAgkA6HOum5aqsckRkqQnPtmtqoZmawMBPQwFEgDQ5/jZbfrNRaPavr7y\n",
              "2S8tTAP0PBRIAECfNDQhTFeemiKp9VD2v3YUW5wI6DkokACAPuvX54/UsMQwSdLNL2/SE59kWZwI\n",
              "6BkokACAPsswDL14/UQlRwVKkv60cq8+zSrRvtJaVdY3WZwO8F2Ojj7xhRde0A033KB33nlH559/\n",
              "fidGAgCg+8SHBWjZT2Zq+uMrVVbr0g0vbmx7bHBssCYNjFKwv0PxYQG6YFx/xYQ4LUwL+IYOFci8\n",
              "vDz97W9/0+TJkzs7DwAA3S7Az66nrjhFj3+cpeKqRtU2tqjG1aK9pXXaW1rXtt+jS3fp9CGxuusH\n",
              "6RqXEmlhYsBaXhdIj8ejm266SX/84x917733HnM/l8sll8vVbpvbzc1aAQC+afKgaL1z+7S2rwvK\n",
              "67VsZ4mqG5vV0OTW6j2lyiqu0ardpVq/r1zr/+cHCgvwszAxYB2vz4FcvHixpk2bpvHjxx93v0WL\n",
              "Fik8PLzdR2ZmZoeDAgDQnZKjgnTD9IG6Z06GHpg3TB/dPUP/76ZTJUkNzW69+HmetQEBC3lVIL/+\n",
              "+mu99dZbevDBB7933wceeEBVVVXtPiZNmtThoAAAWMkwDE1Ni9FvLmy9f+QH2w7KNE2LUwHW8KpA\n",
              "rl27Vnl5eUpPT1dqaqq+/PJL3XzzzfrLX/5yxL5Op1NhYWHtPux2e6cFBwDACmePTJSf3dCekloV\n",
              "VjRYHQewhFcF8rbbblNRUZHy8vKUl5enyZMn65lnntFtt93WVfkAAPAp4UF+GhgTLEnaW1prcRrA\n",
              "GtwHEgAALw2KCZEkLVqapf2H675nb6D3OakCuWrVKu4BCQDoc0Ynh0uSdpfUaOYTq/T4x1mqdbVY\n",
              "nAroPsxAAgDgpasnD9DVkwe0ff2XVXs1ZdEKFVbUW5gK6D4USAAAvBQa4KdHzh+p3b8+SzPSYyRJ\n",
              "NY0tmv74Sr34eS5XZ6PXo0ACANBBToddL994qt6/Y3rbtoff36l1ew9bmAroehRIAABO0qikcG1/\n",
              "+AwlRwVKkq54dr2yS2osTgV0HQokAACdIDTAT/edObTt6xv/vlEF5ZwTid6JAgkAQCc5d0w/fXLP\n",
              "aZKk/PJ6/WFFtsWJgK5BgQQAoBMNSQjVom+WO3xzU6F2HKyyOBHQ+SiQAAB0sssmJKt/ROv5kOf8\n",
              "4TO9s6VQzW6PxamAzkOBBACgk9lshp64eHTb1z954yvNWbxaZbUuC1MBnYcCCQBAF5iaFqO/XTNB\n",
              "IU6HJGn/4Xpd9vQ61s9Gr0CBBACgi8wdHq/tD5/Rdk7k3tI6/eB/V+vBd7ezag16NAokAABdyDAM\n",
              "/WhSiv5+w6S2+0S+8mW+pj++Ug+8vc3idEDHUCABAOgGMzNitea+WfrzleMUG+qUJL2WWaCrn1uv\n",
              "5TtL5PGw/CF6DofVAQAA6CsMw9C8UYk6c0SC7n59iz7YVqS12WVam12m6WkxumnGQPk7bHI6bPKz\n",
              "2+T/7Z92myKD/dvOpwSsxn+JAAB0M7vN0FNXjNMVk8r0l9V7tTa7TJ/ltH4cT1Swv84ckaArT03R\n",
              "yP7h3ZQWOBIFEgAAi0xNi9HUtBi9/OV+vb/1oGpdLWp2e9Tk9qi5pfXPphaPXN98lNc16bXMfL2W\n",
              "ma8h8aFKigxUeKCfkqOCNHtonDLiQxXob7f6baEPMEzT7LaTLhYsWKDFixd318sBANBrVDU065Ov\n",
              "i/XbT7JUVtt0zP0GxgRrQHSQwgL8FOx0KNjfrugQp+LDnJqeFqO4sIBuTI3eihlIAAB6gPBAP106\n",
              "MVkXjU9S9qEabS+sUlVDs3YerFZOaa12F9fI1eJRblmdcsvqjvo9gvztmjIoWunxoRoQHaQB0UEa\n",
              "PyBSTgezlvAOBRIAgB7EbjM0NCFMQxPC2m03TVOltS5tL6zS4domVTc2q6HJrdqmFpVUNWrbgSrt\n",
              "K63TiqxDWpF1qO15kUF++uju05QQzswkThwFEgCAXsAwDMWFBugHw45eBFvcHq3aXardJTXaV1qn\n",
              "wop6rc8tV0V9syYvWqGM+BClRAXLz27onNGJmj+6Xze/A/QknAMJAEAflZlbrltf2aTyuiPPqQz0\n",
              "sys80E+pMUEa1T9c6fGhmj86UUH+zD2BAgkAQJ/W1OJRSXWj9pTUqKTapZ+/s/24+8eGOpUcGajR\n",
              "SRG6YdpApUQHdVNS+BL+NwIAgD7M32FTclSQkqNai+BlE5N1qKZRTS0eVdY3a8fBau04WKWl24tU\n",
              "Ud+s0hqXSmtc2pxfqb+vy9OrN56qqWkxFr8LdDcKJAAAaGO3GUoMb12ze0C0NCY5QpL06/NHqqy2\n",
              "STuLqlXV0KzHPtyl4upGXfHseoU6HRoUF6IHzh6qlKggOR02hQb4yd/Bism9FQUSAAB8L8MwFBvq\n",
              "1MzQWElSRnyIfvTMl6qob1aNq0VfFVTq8me+bNs/0M+umRmx+q9ZaRqVxKo5vQ0FEgAAeG1oQpg2\n",
              "PThXJTWN2ry/Ui+ty1NWcY0amt1qavGoodmtj3cUa/muEs0dHq/Jg6I1ODZE09M53N0bUCABAECH\n",
              "2L453H3O6ECdMzqxbbvbYyozt1x/XpWjtdll+ujrYn30dXHb42lxIZo3KlF3zk6Tn53D3D0RBRIA\n",
              "AHQqu83QlMHRmjwoSp/llGnZzhKtzS5rWyEn51Ct/rAiWyuzDun9O6dbnBYdQYEEAABdwjAMzUiP\n",
              "1Yz01vMmK+qaWi/AWbpL/9pZou0HqpRXVqfUmGCLk8JbzBsDAIBuERnsr9SYYD1zzQRN/+bWP+9s\n",
              "OWBxKnQEBRIAAHS7c8e2LpW4ZEW2al0tFqeBtyiQAACg280b9d1FN1c/t14tbo+FaeAtCiQAAOh2\n",
              "IU6HFs4fLknakl+p4b/4RNsLqyxOhRPFRTQAAMAS109NVWmNS39dvVdNbo9++NRnOi0jVqP7h2v+\n",
              "mEQNTQizOiKOgRlIAABgCZvN0P1nD9VnP5ulhLAASdKaPaV6amWOfvjHz/RZdpnFCXEszEACAABL\n",
              "JUUGacW9M5WZV67skhq98mW+8svrddVz6zUjPUbXTknVpEFRCnU6ZBiG1XEhCiQAAPABwU6HZg2J\n",
              "06whcbp0QrJu+vtGbdxfobXZZVr7zUxkv/AA/eq8kZozPN7itOAQNgAA8CkRQf5689YpeuXGU/XD\n",
              "Mf0UGeQnSTpY1aibXtqo336cZXFCMAMJAAB8jmEYmp4eo+nprTccL65q1M/e2qbVe0r151V7Fehn\n",
              "13XTUhUa4Gdx0r6JGUgAAODzEsID9OL1E3XNlAGSpP9dtkeXP/OlTNO0OFnfRIEEAAA9gmEY+uW5\n",
              "I/TgOcMkSTsOVmtLQaW1ofooCiQAAOgxDMPQTTMGafbQOEnSxX/5Qpm55Ran6nsokAAAoMe5c3aa\n",
              "4sOc8pjSpU+v0++W7bE6Up9CgQQAAD3OKSmRWnrXDKXHhUiSlqzI1uo9pRan6jsokAAAoEeKDnHq\n",
              "w7tmaMqgaEnStc9nKudQjcWp+gYKJAAA6LH8HTa9cP1EJUUGSpKeWbPP4kR9AwUSAAD0aAF+dv1i\n",
              "/nBJ0j82Furp1XstTtT7USABAECPNz09RkPiQyVJiz7K0sY8rszuShRIAADQ4wX5O/TR3TM0KTVK\n",
              "ktrWz0bXYClDAADQK9hshs4YEa/MvHItWZGtT3YUKz0+VJFBfrpmSqoGxwbLMAyrY/YKFEgAANBr\n",
              "XDw+SW9vPqCdRdXKKq5RVnHrVdkvrduvCQMiddXkAfrhmH6y2yiSJ4MCCQAAeo2IIH99eNd07S2t\n",
              "1eb9lfoy97A25JWroLxBG/dXaOP+Cr2Wma8/XzlO0SFOq+P2WBRIAADQqxiGobS4UKXFherSicmS\n",
              "pP2H6/TUpzl6c1Oh1ueW6+rnMvX+ndOZiewgLqIBAAC93oDoYD1xyRg9ffV4SdLOomqd9tuVenld\n",
              "nrXBeigKJAAA6DPOHJGgG6cPlCQdqGzQwvd26MlPdss0TYuT9SwUSAAA0KcsnD9cK396umJC/CVJ\n",
              "T63M0Z9XcfNxb3hVIBsbG3X++ecrIyNDY8aM0dy5c5WTk9NV2QAAALrEwJhgbfifObp+Wqok6YlP\n",
              "dqu8rsnaUD2I1zOQN998s3bv3q2vvvpK5513nm666aauyAUAANClDMPQT+Zm6NvraMY9skx/Xb1X\n",
              "n2aVaEt+hdweDmsfi1cFMiAgQPPmzWu7CefkyZOVl5fXFbkAAAC6XFiAn26dObjt6998lKUbXtyo\n",
              "C/78hWb/7yoVVTVYmM53ndRtfJYsWaLzzjvvqI+5XC65XK5229xu98m8HAAAQKf777OGalpajDbk\n",
              "lSurqEb7y+u1q6ha+w/Xa8qiT/W3ayZo7vB4q2P6FMPs4GVHjz32mN5//32tWLFCQUFBRzz+8MMP\n",
              "65e//GW7bZMnT9a6des6lhQAAKCbfLKjWLe8vKnt6/4RgVpy+VhN+Gat7b6uQwXyySef1Ouvv67l\n",
              "y5crIiLiqPscbQZy4cKFWrJkSYeCAgAAdKe8sjrd/upm7Syqbtv2yHkjdPmkFPnZ+/aNbLx+94sX\n",
              "L9Zrr72mZcuWHbM8SpLT6VRYWFi7D7vdfjJZAQAAuk1qTLCW3j1Df/zRKW3bFr63Q1c+u15NLR4L\n",
              "k1nPqxnIwsJCJScna9CgQQoNDZXUWhTXr19/Qs9fsGCBFi9e3LGkAAAAFqlpbNafVu7VX1e33i+y\n",
              "X3iA/nzVeI1NjrA2mEW8uogmKSmJO7UDAIA+JzTAT/efPVRjksJ126ubdbCqUef/6XMtvnSMLhyX\n",
              "ZHW8bte3D+ADAAB44exRiVpz3yylx4VIku598ytlFVd/z7N6HwokAACAF1Kig/TeHdMUFewv05TO\n",
              "+v1avbp+v9WxuhUFEgAAwEtB/g49c/V4RQT5SZIWvvu11u09bHGq7kOBBAAA6IAJqVFa//MfaFBM\n",
              "sDym9KO/falff7BTnj6wBCIFEgAAoIOcDrte/fGpSo4KlCQ9+1muHlu6S66W3r36HgUSAADgJCSG\n",
              "B2r1T2fp+mmpklpL5LhfLdPVz63X0u1FcvfCGcmTWgsbAAAAks1m6IGzh8njMfXW5gOqdbVobXaZ\n",
              "1maXaXBssP5+wyQlRR659HNPxQwkAABAJ/B32PTL80Zq20NnaOldM3THrDQ5HTbtLa3T9MdX6mf/\n",
              "3KaGpt5xaJsCCQAA0IlsNkPD+4Xpp2cO0Vu3TVVYQOsB3zc2FmjCr5fp/a8OWpzw5FEgAQAAusjI\n",
              "/uHa8osz2s6PrGty687XtuiqZ9fr46+LtbWgUpX1TT1upT/OgQQAAOhCdpuhh344QtdPHagF/9iq\n",
              "jfsr9FlOmT7LKWu3T0pUkEb2D9eEAZE6e2SCooL95bD75lyfYXZj5V2wYIEWL17cXS8HAADgU0yz\n",
              "9SKbf+0oVkmNS8VVDSqpdh1130A/u565ZrxmpMd2c8rvxwwkAABANzEMQxePT9LF45PatjU2u1VR\n",
              "36Tsklp9sqNYH31drPK6JjU0u7Uyq9QnC6RvzosCAAD0EQF+diWGB+q0jFg9esEobV44Vw+eM0yS\n",
              "9PznuSqpbrQ44ZEokAAAAD5mbHJE2+dvbiywLsgxUCABAAB8zITUKM0eGidJcrV4LE5zJAokAACA\n",
              "D0qObF1f2xfv8EOBBAAA8EGGYUiSTPleg6RAAgAA+KBv+iMzkAAAADgxhr6dgfQ9FEgAAAAf9O0M\n",
              "pMcHpyApkAAAAD7I+PYT3+uPFEgAAABf1HYOpLUxjooCCQAA4IParsLmEDYAAABOxLeHsH2wP1Ig\n",
              "AQAAfBKHsAEAAOCNttv4+GCDpEACAAD4IFvbDKTvNUgKJAAAgA9iJRoAAAB4xfjuTpA+hwIJAADg\n",
              "g76bgfS9KUgKJAAAgA/6dv7R43v9kQIJAADgk769kTgX0QAAAOBEcCNxAAAAeIW1sAEAAOAVbiQO\n",
              "AAAArxhtd/HxvQZJgQQAAPBBNm4kDgAAAG8YBoewAQAA0AHcxgcAAAAnhLWwAQAA4JW2q7AtznE0\n",
              "FEgAAAAfxAwkAAAAvPLdSjS+1yApkAAAAD6IlWgAAADgle9WovG9CkmBBAAA8EHMQAIAAMAr3Egc\n",
              "AAAAXmm7iMbSFEdHgQQAAPBB393Gx/cqJAUSAADABzEDCQAAAK8YPnwVDQUSAADAB33XH32vQVIg\n",
              "AQAAfNB3K9FYGuOoKJAAAAC+iNv4AAAAwBu2b6YgPT7YICmQAAAAPqhtKUOLcxyN1wUyOztbU6dO\n",
              "VUZGhiZOnKgdO3Z0RS4AAIA+7bv7QFqb42i8LpC33HKLbr75Zu3Zs0c/+9nPdN1113VBLAAAgL7N\n",
              "aPvM9xqkVwXy0KFD2rhxo6666ipJ0kUXXaSCggLl5OR0STgAAIC+ypdnIB3e7FxQUKDExEQ5HK1P\n",
              "MwxDKSkpys/PV1paWrt9XS6XXC5Xu21ut/sk4wIAAPQNveocyBO1aNEihYeHt/vIzMzsqpcDAADo\n",
              "XXrLWtjJyckqKipSS0uLpNY3lJ+fr5SUlCP2feCBB1RVVdXuY9KkSZ2TGgAAoJebOjhaf71qnO6Y\n",
              "nfb9O3czrw5hx8XFady4cXrllVd03XXX6a233lJSUtIRh68lyel0yul0tttmt9tPLi0AAEAfkRQZ\n",
              "pKTIIKtjHJVXBVKSnn76aV133XV67LHHFBYWphdeeKErcgEAAMBHeV0ghwwZonXr1nVFFgAAAPQA\n",
              "rEQDAAAAr1AgAQAA4BUKJAAAALxCgQQAAIBXKJAAAADwCgUSAAAAXqFAAgAAwCsUSAAAAHiFAgkA\n",
              "AACvGKZpmt31YhdeeKFSU1O75bXcbrcyMzM1adIk1uD2AYyHb2E8fAvj4VsYD9/CeHS/AQMG6O67\n",
              "7z7uPt1aILtTdXW1wsPDVVVVpbCwMKvj9HmMh29hPHwL4+FbGA/fwnj4Jg5hAwAAwCsUSAAAAHiF\n",
              "AgkAAACv9NoC6XQ69dBDD8npdFodBWI8fA3j4VsYD9/CePgWxsM39dqLaAAAANA1eu0MJAAAALoG\n",
              "BRIAAABeoUACAADAK72yQGZnZ2vq1KnKyMjQxIkTtWPHDqsj9XqpqakaMmSIxo4dq7Fjx+qNN96Q\n",
              "dPyxYJw6z1133aXU1FQZhqGtW7e2be/oz5+xOTnHGo9j/Z5IjEdXamxs1Pnnn6+MjAyNGTNGc+fO\n",
              "VU5OjiTp0KFDOuuss5Senq6RI0dqzZo1bc/r6GM4vuONx+mnn66BAwe2/Y787ne/a3se4+FjzF5o\n",
              "1qxZ5gsvvGCapmm++eab5oQJE6wN1AcMGDDA3LJlyxHbjzcWjFPnWb16tVlQUHDEOHT058/YnJxj\n",
              "jcexfk9Mk/HoSg0NDeaHH35oejwe0zRN849//KM5c+ZM0zRN8/rrrzcfeugh0zRNMzMz0+zfv7/Z\n",
              "1NR0Uo/h+I43HjNnzjTfeeedoz6P8fAtva5AlpSUmKGhoWZzc7Npmqbp8XjM+Ph4Mzs72+JkvdvR\n",
              "/mE83lgwTl3j38ehoz9/xqbznGiBZDy614YNG8wBAwaYpmmawcHBZlFRUdtjEydONJctW3ZSj8E7\n",
              "/z4exyuQjIdv6XWHsAsKCpSYmCiHwyFJMgxDKSkpys/PtzhZ73fNNddo1KhRuvHGG1VaWnrcsWCc\n",
              "ul5Hf/6MTdf6z98TqeNjhY5ZsmSJzjvvPB0+fFjNzc1KSEhoeyw1NVX5+fkdfgze+3Y8vnX//fdr\n",
              "1KhRuuyyy7Rv3z5JYjx8UK8rkLDGmjVrtG3bNm3evFkxMTG69tprrY4E+Bx+T6z32GOPKScnR4sW\n",
              "LbI6CnTkeLz88svKysrStm3bNGPGDM2fP9/ihDiWXlcgk5OTVVRUpJaWFkmSaZrKz89XSkqKxcl6\n",
              "t29/vn5+frrnnnu0du3a444F49T1OvrzZ2y6ztF+T6SOjxW88+STT+rtt9/WRx99pKCgIEVHR8vh\n",
              "cKi4uLhtn7y8PKWkpHT4MZy4/xwPqfV3QWqdab/jjju0b98+HT58mPHwQb2uQMbFxWncuHF65ZVX\n",
              "JElvvfWWkpKSlJaWZnGy3quurk6VlZVtX7/22ms65ZRTjjsWjFPX6+jPn7HpGsf6PZE6PlY4cYsX\n",
              "L9Zrr72mZcuWKSIiom37JZdcor/+9a+SpA0bNujAgQOaOXPmST2G73e08WhpaVFJSUnbPm+99Zbi\n",
              "4+MVHR0tifHwOdadftl1srKyzMmTJ5vp6enm+PHjzW3btlkdqVfbu3evOXbsWHPUqFHmyJEjzXPP\n",
              "PdfMzc01TfP4Y8E4dZ6bb77Z7N+/v2m32824uDhz8ODBpml2/OfP2Jyco43H8X5PTJPx6EoFBQWm\n",
              "JHPQoEHmmDFjzDFjxpiTJk0yTdM0i4uLzblz55ppaWnm8OHDzU8//bTteR19DMd3rPGora01x48f\n",
              "b44cOdIcPXq0OXv2bHPr1q1tz2M8fAtrYQMAAMArve4QNgAAALoWBRIAAABeoUACAADAKxRIAAAA\n",
              "eIUCCQAAAK9QIAEAAOAVCiQAAAC8QoEEAACAVyiQAAAA8AoFEgAAAF6hQAIAAMAr/x/moC8P1TBV\n",
              "zgAAAABJRU5ErkJggg==\n",
              "\">\n",
              "      </div>\n",
              "      <script type=\"text/javascript\">\n",
              "        (() => {\n",
              "          const chartElement = document.getElementById(\"chart-6ab24180-ddc8-4b66-a545-00f88f0e3b81\");\n",
              "          async function getCodeForChartHandler(event) {\n",
              "            const chartCodeResponse =  await google.colab.kernel.invokeFunction(\n",
              "                'getCodeForChart', [\"chart-6ab24180-ddc8-4b66-a545-00f88f0e3b81\"], {});\n",
              "            const responseJson = chartCodeResponse.data['application/json'];\n",
              "            await google.colab.notebook.addCell(responseJson.code, 'code');\n",
              "          }\n",
              "          chartElement.onclick = getCodeForChartHandler;\n",
              "        })();\n",
              "      </script>\n",
              "      <style>\n",
              "        .colab-quickchart-chart-with-code  {\n",
              "            display: block;\n",
              "            float: left;\n",
              "            border: 1px solid transparent;\n",
              "        }\n",
              "\n",
              "        .colab-quickchart-chart-with-code:hover {\n",
              "            cursor: pointer;\n",
              "            border: 1px solid #aaa;\n",
              "        }\n",
              "      </style>"
            ]
          },
          "metadata": {}
        }
      ]
    },
    {
      "cell_type": "markdown",
      "metadata": {
        "id": "MOFlGR0y2koi"
      },
      "source": [
        "## Part 1.3 Create a Levensthein Distance Formula"
      ]
    },
    {
      "cell_type": "markdown",
      "metadata": {
        "id": "km5cU90S2koj"
      },
      "source": [
        "Recall that Edit Distance is the similarity between two words represented numericallly. Levenstehin distance is one of the most common algorithms used in calculating the edit distance between two words.\n",
        "\n",
        "Create your own simple Levensthein distance function. Then return the results of the distance between two words: _stemming_ and _lemmatization_.\n"
      ]
    },
    {
      "cell_type": "code",
      "source": [
        "def leven_dist(string1, string2):\n",
        "    '''\n",
        "    input:\n",
        "        string1 = the first word in your formula\n",
        "        string2 = the second word in your formula\n",
        "    output:\n",
        "        levenschtein edit distance\n",
        "\n",
        "    '''\n",
        "    #if min(i,j) =/= 0\n",
        "    if not string1: return len(string2)\n",
        "    if not string2: return len(string1)\n",
        "\n",
        "### START CODE HERE (REPLACE INSTANCES OF 'None' with your code) ###\n",
        "    #because min(i,j) =/= 0 then we min(i,j)\n",
        "\n",
        "    return min(\n",
        "\n",
        "        #part I. calculate the numerical position of letter i-1, j and add 1\n",
        "        leven_dist(string1[:-1], string2) + 1,\n",
        "\n",
        "\n",
        "        #part II: calculate the numerical position of letter i, j-1 and add 1\n",
        "        leven_dist(string1, string2[:-1]) + 1,\n",
        "\n",
        "        # part III: if position i-1, j-1 are not the same letter, then add 1\n",
        "        leven_dist(string1[:-1], string2[:-1]) +\n",
        "         (0 if string1[-1] == string2[-1] else 1)\n",
        "    )\n",
        "### END CODE HERE ###\n",
        "\n",
        "\n",
        "\n",
        "#now run your results\n",
        "\n",
        "string1 = 'stemming'\n",
        "string2 = 'lemmatization'\n",
        "print(\"Your Levensthein Distance is: \",leven_dist(string1,string2))"
      ],
      "metadata": {
        "id": "teSaHxFCykFP",
        "colab": {
          "base_uri": "https://localhost:8080/"
        },
        "outputId": "0a3d4e2b-d746-4394-a460-482983b5e280"
      },
      "execution_count": 7,
      "outputs": [
        {
          "output_type": "stream",
          "name": "stdout",
          "text": [
            "Your Levensthein Distance is:  10\n"
          ]
        }
      ]
    },
    {
      "cell_type": "markdown",
      "metadata": {
        "id": "9a5gh6B-2kok"
      },
      "source": [
        "### Expected output:\n",
        "Your Levensthein Distance is: 10"
      ]
    },
    {
      "cell_type": "markdown",
      "metadata": {
        "id": "J3PHkeRY2kol"
      },
      "source": [
        "#end of assignment#\n",
        "                                            \n",
        "Source:\n",
        "Natural Language preprocessing, deeplearning.ai\n",
        "Twitter API documentation\n",
        "Wikipedia: Levensthein Distance\n",
        "Chapter 2 (Jurafsky and Martin)\n",
        "                        \n"
      ]
    }
  ]
}